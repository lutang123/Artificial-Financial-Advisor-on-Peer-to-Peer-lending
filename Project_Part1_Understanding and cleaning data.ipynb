{
 "cells": [
  {
   "cell_type": "markdown",
   "metadata": {},
   "source": [
    "# Project: Artificial Financial Advisor on Peer-to-Peer lending -- Part 1\n",
    "\n",
    "--by Lu Tang\n",
    "\n",
    "## Introduction\n",
    "\n",
    "LendingClub is the first and largest online peer-to-peer ('P2P') platform to facilitate lending and borrowing of unsecured loans. As explained by Wikipedia:\n",
    "\n",
    "- Lending Club enables borrowers to create unsecured personal loans between $1,000  and  $40,000. The standard loan period is three years. Investors can search and browse the loan listings on Lending Club website and select loans that they want to invest in based on the information supplied about the borrower, amount of loan, loan grade, and loan purpose. Investors make money from interest. Lending Club makes money by charging borrowers an origination fee and investors a service fee.\n",
    "\n",
    "**The goal of this project**: Build a machine learning model that can help investor reduce the investment risk by building a portfolio with selected loans.\n",
    "\n",
    "**Data Source** : Personal loan payment dataset from LendingClub Corp, LC, available on [LendingClub Statistics](https://www.lendingclub.com/info/download-data.action)\n",
    "\n",
    "The dataset I am working on is from 2007 to 2019 quarter 2; In total, there are about 2.5 millions of loans in this data. Each row is one loan, and it covers an extensive amount of information on the borrower's side that was originally available to lenders when they made investment choices. \n",
    "\n",
    "**Note**: I used the all the data available including the recent loan data for two reasons:\n",
    "\n",
    "1. I want to analyze all the loan data to find insight about default rate and year trends.\n",
    "2. After researching, I found that for the loans that are issued in recent years, although the loan term is either 36 months or 60 months, there are many loans that are pre-paid or charged off before it is expired. Those are still the data that I can use in the model. \n",
    "\n",
    "The whole projects are separated in two parts, and this is part 2. \n",
    "\n",
    "- Part 1 Understanding and Cleaning data, Identifying investment problem\n",
    "\n",
    "- Part 2 Choosing the best model for investors\n",
    "\n",
    "## Part 1 Understanding and Cleaning data, Identifying investment problem\n",
    "\n",
    "## Table of Contents\n",
    "<ul>\n",
    "<li><a href=\"#data\">1. Understanding and Visualizing data</a></li> \n",
    "<li><a href=\"#clean\">2. Cleaning Data</a></li>\n",
    "<li><a href=\"#category\">3. More Data Cleaning on Category columns</a></li>\n",
    "<li><a href=\"#missing\">4. Handling missing values</a></li>\n",
    "<li><a href=\"#summary\">5. Summary</a></li>\n",
    "</ul> "
   ]
  },
  {
   "cell_type": "markdown",
   "metadata": {},
   "source": [
    "**Import Python libraries and make general settings:**"
   ]
  },
  {
   "cell_type": "code",
   "execution_count": 1,
   "metadata": {},
   "outputs": [
    {
     "data": {
      "text/plain": [
       "<Figure size 720x432 with 0 Axes>"
      ]
     },
     "metadata": {},
     "output_type": "display_data"
    }
   ],
   "source": [
    "# import library\n",
    "import pandas as pd\n",
    "import numpy as np\n",
    "import matplotlib.pyplot as plt\n",
    "%matplotlib inline\n",
    "import seaborn as sns\n",
    "\n",
    "# to make better chart\n",
    "sns.set_style('whitegrid')\n",
    "plt.figure(figsize = (10,6))\n",
    "sns.despine(left=True, bottom=True)\n",
    "\n",
    "# to avoid warnings\n",
    "import warnings\n",
    "warnings.filterwarnings('ignore')\n",
    "\n",
    "# Pandas options\n",
    "pd.set_option('display.max_colwidth', 1000, 'display.max_rows', None, 'display.max_columns', None)"
   ]
  },
  {
   "cell_type": "markdown",
   "metadata": {},
   "source": [
    "<a id='data'></a>\n",
    "## 1. Understanding and Visualizing data\n",
    "\n",
    "Before we load data, let's view the data dictionary, this can be found at the bottom of [Lending loop statistic website](https://www.lendingclub.com/info/download-data.action)"
   ]
  },
  {
   "cell_type": "markdown",
   "metadata": {},
   "source": [
    "**1.1 View the data dictionary**"
   ]
  },
  {
   "cell_type": "code",
   "execution_count": 3,
   "metadata": {
    "scrolled": false
   },
   "outputs": [
    {
     "name": "stdout",
     "output_type": "stream",
     "text": [
      "The number of rows in the data dictionary is:  153\n"
     ]
    },
    {
     "data": {
      "text/html": [
       "<div>\n",
       "<style scoped>\n",
       "    .dataframe tbody tr th:only-of-type {\n",
       "        vertical-align: middle;\n",
       "    }\n",
       "\n",
       "    .dataframe tbody tr th {\n",
       "        vertical-align: top;\n",
       "    }\n",
       "\n",
       "    .dataframe thead th {\n",
       "        text-align: right;\n",
       "    }\n",
       "</style>\n",
       "<table border=\"1\" class=\"dataframe\">\n",
       "  <thead>\n",
       "    <tr style=\"text-align: right;\">\n",
       "      <th></th>\n",
       "      <th>LoanStatNew</th>\n",
       "      <th>Description</th>\n",
       "    </tr>\n",
       "  </thead>\n",
       "  <tbody>\n",
       "    <tr>\n",
       "      <th>0</th>\n",
       "      <td>acc_now_delinq</td>\n",
       "      <td>The number of accounts on which the borrower is now delinquent.</td>\n",
       "    </tr>\n",
       "    <tr>\n",
       "      <th>1</th>\n",
       "      <td>acc_open_past_24mths</td>\n",
       "      <td>Number of trades opened in past 24 months.</td>\n",
       "    </tr>\n",
       "    <tr>\n",
       "      <th>2</th>\n",
       "      <td>addr_state</td>\n",
       "      <td>The state provided by the borrower in the loan application</td>\n",
       "    </tr>\n",
       "    <tr>\n",
       "      <th>3</th>\n",
       "      <td>all_util</td>\n",
       "      <td>Balance to credit limit on all trades</td>\n",
       "    </tr>\n",
       "    <tr>\n",
       "      <th>4</th>\n",
       "      <td>annual_inc</td>\n",
       "      <td>The self-reported annual income provided by the borrower during registration.</td>\n",
       "    </tr>\n",
       "  </tbody>\n",
       "</table>\n",
       "</div>"
      ],
      "text/plain": [
       "            LoanStatNew  \\\n",
       "0        acc_now_delinq   \n",
       "1  acc_open_past_24mths   \n",
       "2            addr_state   \n",
       "3              all_util   \n",
       "4            annual_inc   \n",
       "\n",
       "                                                                     Description  \n",
       "0                The number of accounts on which the borrower is now delinquent.  \n",
       "1                                     Number of trades opened in past 24 months.  \n",
       "2                     The state provided by the borrower in the loan application  \n",
       "3                                          Balance to credit limit on all trades  \n",
       "4  The self-reported annual income provided by the borrower during registration.  "
      ]
     },
     "execution_count": 3,
     "metadata": {},
     "output_type": "execute_result"
    }
   ],
   "source": [
    "# load data dictionary\n",
    "data_dic = pd.read_excel('LCDataDictionary.xlsx')\n",
    "\n",
    "# view how many columns it descripes\n",
    "print('The number of rows in the data dictionary is: ', data_dic.shape[0])\n",
    "\n",
    "# view first 5 rows\n",
    "data_dic.head()"
   ]
  },
  {
   "cell_type": "markdown",
   "metadata": {},
   "source": [
    "There are 152 column description. To save space, I didn't show all the description, Click [here](https://docs.google.com/spreadsheets/d/191B2yJ4H1ZPXq0_ByhUgWMFZOYem5jFz0Y3by_7YBY4/edit#gid=2081333097) to view what does each column mean.\n",
    "\n",
    "We don't have to dig deep for every column for now, but we will need to review it after a few cleaning."
   ]
  },
  {
   "cell_type": "markdown",
   "metadata": {},
   "source": [
    "After researching the data dictionary, I decided that **`loan_status` is my target column**, since it's the only column that directly describes if a loan was paid off on time, had delayed payments, or was defaulted on the borrower. \n",
    "\n",
    "There are 8 different possible values for the `loan_status` column. We can read about most of the different loan status on the [Lending Club webste](https://help.lendingclub.com/hc/en-us/articles/215488038-What-do-the-different-Note-statuses-mean-). The two values that start with \"Does not meet the credit policy\" aren't explained unfortunately. A quick Google search takes us to explanations from the lending community [here](https://forum.lendacademy.com/?topic=2427.msg20813#msg20813)."
   ]
  },
  {
   "cell_type": "markdown",
   "metadata": {},
   "source": [
    "**1.2 Loading data files from different years**"
   ]
  },
  {
   "cell_type": "markdown",
   "metadata": {},
   "source": [
    "I have downloaded all the data available from [Lending Club Statistic](https://www.lendingclub.com/info/download-data.action). By the time of this project, I have data from 2007 to 2019 Q2; However the datastes are in different files, let's first load all of them and view the first rows and check the shape of the dataset. "
   ]
  },
  {
   "cell_type": "markdown",
   "metadata": {},
   "source": [
    "**Let's first read the oldest data file, i.e. loan informations from 2007 to 2011**"
   ]
  },
  {
   "cell_type": "code",
   "execution_count": 4,
   "metadata": {
    "scrolled": false
   },
   "outputs": [
    {
     "data": {
      "text/html": [
       "<div>\n",
       "<style scoped>\n",
       "    .dataframe tbody tr th:only-of-type {\n",
       "        vertical-align: middle;\n",
       "    }\n",
       "\n",
       "    .dataframe tbody tr th {\n",
       "        vertical-align: top;\n",
       "    }\n",
       "\n",
       "    .dataframe thead th {\n",
       "        text-align: right;\n",
       "    }\n",
       "</style>\n",
       "<table border=\"1\" class=\"dataframe\">\n",
       "  <thead>\n",
       "    <tr style=\"text-align: right;\">\n",
       "      <th></th>\n",
       "      <th>id</th>\n",
       "      <th>member_id</th>\n",
       "      <th>loan_amnt</th>\n",
       "      <th>funded_amnt</th>\n",
       "      <th>funded_amnt_inv</th>\n",
       "      <th>term</th>\n",
       "      <th>int_rate</th>\n",
       "      <th>installment</th>\n",
       "      <th>grade</th>\n",
       "      <th>sub_grade</th>\n",
       "      <th>emp_title</th>\n",
       "      <th>emp_length</th>\n",
       "      <th>home_ownership</th>\n",
       "      <th>annual_inc</th>\n",
       "      <th>verification_status</th>\n",
       "      <th>issue_d</th>\n",
       "      <th>loan_status</th>\n",
       "      <th>pymnt_plan</th>\n",
       "      <th>url</th>\n",
       "      <th>desc</th>\n",
       "      <th>purpose</th>\n",
       "      <th>title</th>\n",
       "      <th>zip_code</th>\n",
       "      <th>addr_state</th>\n",
       "      <th>dti</th>\n",
       "      <th>delinq_2yrs</th>\n",
       "      <th>earliest_cr_line</th>\n",
       "      <th>inq_last_6mths</th>\n",
       "      <th>mths_since_last_delinq</th>\n",
       "      <th>mths_since_last_record</th>\n",
       "      <th>open_acc</th>\n",
       "      <th>pub_rec</th>\n",
       "      <th>revol_bal</th>\n",
       "      <th>revol_util</th>\n",
       "      <th>total_acc</th>\n",
       "      <th>initial_list_status</th>\n",
       "      <th>out_prncp</th>\n",
       "      <th>out_prncp_inv</th>\n",
       "      <th>total_pymnt</th>\n",
       "      <th>total_pymnt_inv</th>\n",
       "      <th>total_rec_prncp</th>\n",
       "      <th>total_rec_int</th>\n",
       "      <th>total_rec_late_fee</th>\n",
       "      <th>recoveries</th>\n",
       "      <th>collection_recovery_fee</th>\n",
       "      <th>last_pymnt_d</th>\n",
       "      <th>last_pymnt_amnt</th>\n",
       "      <th>next_pymnt_d</th>\n",
       "      <th>last_credit_pull_d</th>\n",
       "      <th>collections_12_mths_ex_med</th>\n",
       "      <th>mths_since_last_major_derog</th>\n",
       "      <th>policy_code</th>\n",
       "      <th>application_type</th>\n",
       "      <th>annual_inc_joint</th>\n",
       "      <th>dti_joint</th>\n",
       "      <th>verification_status_joint</th>\n",
       "      <th>acc_now_delinq</th>\n",
       "      <th>tot_coll_amt</th>\n",
       "      <th>tot_cur_bal</th>\n",
       "      <th>open_acc_6m</th>\n",
       "      <th>open_act_il</th>\n",
       "      <th>open_il_12m</th>\n",
       "      <th>open_il_24m</th>\n",
       "      <th>mths_since_rcnt_il</th>\n",
       "      <th>total_bal_il</th>\n",
       "      <th>il_util</th>\n",
       "      <th>open_rv_12m</th>\n",
       "      <th>open_rv_24m</th>\n",
       "      <th>max_bal_bc</th>\n",
       "      <th>all_util</th>\n",
       "      <th>total_rev_hi_lim</th>\n",
       "      <th>inq_fi</th>\n",
       "      <th>total_cu_tl</th>\n",
       "      <th>inq_last_12m</th>\n",
       "      <th>acc_open_past_24mths</th>\n",
       "      <th>avg_cur_bal</th>\n",
       "      <th>bc_open_to_buy</th>\n",
       "      <th>bc_util</th>\n",
       "      <th>chargeoff_within_12_mths</th>\n",
       "      <th>delinq_amnt</th>\n",
       "      <th>mo_sin_old_il_acct</th>\n",
       "      <th>mo_sin_old_rev_tl_op</th>\n",
       "      <th>mo_sin_rcnt_rev_tl_op</th>\n",
       "      <th>mo_sin_rcnt_tl</th>\n",
       "      <th>mort_acc</th>\n",
       "      <th>mths_since_recent_bc</th>\n",
       "      <th>mths_since_recent_bc_dlq</th>\n",
       "      <th>mths_since_recent_inq</th>\n",
       "      <th>mths_since_recent_revol_delinq</th>\n",
       "      <th>num_accts_ever_120_pd</th>\n",
       "      <th>num_actv_bc_tl</th>\n",
       "      <th>num_actv_rev_tl</th>\n",
       "      <th>num_bc_sats</th>\n",
       "      <th>num_bc_tl</th>\n",
       "      <th>num_il_tl</th>\n",
       "      <th>num_op_rev_tl</th>\n",
       "      <th>num_rev_accts</th>\n",
       "      <th>num_rev_tl_bal_gt_0</th>\n",
       "      <th>num_sats</th>\n",
       "      <th>num_tl_120dpd_2m</th>\n",
       "      <th>num_tl_30dpd</th>\n",
       "      <th>num_tl_90g_dpd_24m</th>\n",
       "      <th>num_tl_op_past_12m</th>\n",
       "      <th>pct_tl_nvr_dlq</th>\n",
       "      <th>percent_bc_gt_75</th>\n",
       "      <th>pub_rec_bankruptcies</th>\n",
       "      <th>tax_liens</th>\n",
       "      <th>tot_hi_cred_lim</th>\n",
       "      <th>total_bal_ex_mort</th>\n",
       "      <th>total_bc_limit</th>\n",
       "      <th>total_il_high_credit_limit</th>\n",
       "      <th>revol_bal_joint</th>\n",
       "      <th>sec_app_earliest_cr_line</th>\n",
       "      <th>sec_app_inq_last_6mths</th>\n",
       "      <th>sec_app_mort_acc</th>\n",
       "      <th>sec_app_open_acc</th>\n",
       "      <th>sec_app_revol_util</th>\n",
       "      <th>sec_app_open_act_il</th>\n",
       "      <th>sec_app_num_rev_accts</th>\n",
       "      <th>sec_app_chargeoff_within_12_mths</th>\n",
       "      <th>sec_app_collections_12_mths_ex_med</th>\n",
       "      <th>sec_app_mths_since_last_major_derog</th>\n",
       "      <th>hardship_flag</th>\n",
       "      <th>hardship_type</th>\n",
       "      <th>hardship_reason</th>\n",
       "      <th>hardship_status</th>\n",
       "      <th>deferral_term</th>\n",
       "      <th>hardship_amount</th>\n",
       "      <th>hardship_start_date</th>\n",
       "      <th>hardship_end_date</th>\n",
       "      <th>payment_plan_start_date</th>\n",
       "      <th>hardship_length</th>\n",
       "      <th>hardship_dpd</th>\n",
       "      <th>hardship_loan_status</th>\n",
       "      <th>orig_projected_additional_accrued_interest</th>\n",
       "      <th>hardship_payoff_balance_amount</th>\n",
       "      <th>hardship_last_payment_amount</th>\n",
       "      <th>debt_settlement_flag</th>\n",
       "      <th>debt_settlement_flag_date</th>\n",
       "      <th>settlement_status</th>\n",
       "      <th>settlement_date</th>\n",
       "      <th>settlement_amount</th>\n",
       "      <th>settlement_percentage</th>\n",
       "      <th>settlement_term</th>\n",
       "    </tr>\n",
       "  </thead>\n",
       "  <tbody>\n",
       "    <tr>\n",
       "      <th>0</th>\n",
       "      <td>NaN</td>\n",
       "      <td>NaN</td>\n",
       "      <td>5000.0</td>\n",
       "      <td>5000.0</td>\n",
       "      <td>4975.0</td>\n",
       "      <td>36 months</td>\n",
       "      <td>10.65%</td>\n",
       "      <td>162.87</td>\n",
       "      <td>B</td>\n",
       "      <td>B2</td>\n",
       "      <td>NaN</td>\n",
       "      <td>10+ years</td>\n",
       "      <td>RENT</td>\n",
       "      <td>24000.0</td>\n",
       "      <td>Verified</td>\n",
       "      <td>Dec-2011</td>\n",
       "      <td>Fully Paid</td>\n",
       "      <td>n</td>\n",
       "      <td>NaN</td>\n",
       "      <td>Borrower added on 12/22/11 &gt; I need to upgrade my business technologies.&lt;br&gt;</td>\n",
       "      <td>credit_card</td>\n",
       "      <td>Computer</td>\n",
       "      <td>860xx</td>\n",
       "      <td>AZ</td>\n",
       "      <td>27.65</td>\n",
       "      <td>0.0</td>\n",
       "      <td>Jan-1985</td>\n",
       "      <td>1.0</td>\n",
       "      <td>NaN</td>\n",
       "      <td>NaN</td>\n",
       "      <td>3.0</td>\n",
       "      <td>0.0</td>\n",
       "      <td>13648.0</td>\n",
       "      <td>83.7%</td>\n",
       "      <td>9.0</td>\n",
       "      <td>f</td>\n",
       "      <td>0.0</td>\n",
       "      <td>0.0</td>\n",
       "      <td>5863.155187</td>\n",
       "      <td>5833.84</td>\n",
       "      <td>5000.0</td>\n",
       "      <td>863.16</td>\n",
       "      <td>0.0</td>\n",
       "      <td>0.0</td>\n",
       "      <td>0.0</td>\n",
       "      <td>Jan-2015</td>\n",
       "      <td>171.62</td>\n",
       "      <td>NaN</td>\n",
       "      <td>May-2019</td>\n",
       "      <td>0.0</td>\n",
       "      <td>NaN</td>\n",
       "      <td>1.0</td>\n",
       "      <td>Individual</td>\n",
       "      <td>NaN</td>\n",
       "      <td>NaN</td>\n",
       "      <td>NaN</td>\n",
       "      <td>0.0</td>\n",
       "      <td>NaN</td>\n",
       "      <td>NaN</td>\n",
       "      <td>NaN</td>\n",
       "      <td>NaN</td>\n",
       "      <td>NaN</td>\n",
       "      <td>NaN</td>\n",
       "      <td>NaN</td>\n",
       "      <td>NaN</td>\n",
       "      <td>NaN</td>\n",
       "      <td>NaN</td>\n",
       "      <td>NaN</td>\n",
       "      <td>NaN</td>\n",
       "      <td>NaN</td>\n",
       "      <td>NaN</td>\n",
       "      <td>NaN</td>\n",
       "      <td>NaN</td>\n",
       "      <td>NaN</td>\n",
       "      <td>NaN</td>\n",
       "      <td>NaN</td>\n",
       "      <td>NaN</td>\n",
       "      <td>NaN</td>\n",
       "      <td>0.0</td>\n",
       "      <td>0.0</td>\n",
       "      <td>NaN</td>\n",
       "      <td>NaN</td>\n",
       "      <td>NaN</td>\n",
       "      <td>NaN</td>\n",
       "      <td>NaN</td>\n",
       "      <td>NaN</td>\n",
       "      <td>NaN</td>\n",
       "      <td>NaN</td>\n",
       "      <td>NaN</td>\n",
       "      <td>NaN</td>\n",
       "      <td>NaN</td>\n",
       "      <td>NaN</td>\n",
       "      <td>NaN</td>\n",
       "      <td>NaN</td>\n",
       "      <td>NaN</td>\n",
       "      <td>NaN</td>\n",
       "      <td>NaN</td>\n",
       "      <td>NaN</td>\n",
       "      <td>NaN</td>\n",
       "      <td>NaN</td>\n",
       "      <td>NaN</td>\n",
       "      <td>NaN</td>\n",
       "      <td>NaN</td>\n",
       "      <td>NaN</td>\n",
       "      <td>NaN</td>\n",
       "      <td>0.0</td>\n",
       "      <td>0.0</td>\n",
       "      <td>NaN</td>\n",
       "      <td>NaN</td>\n",
       "      <td>NaN</td>\n",
       "      <td>NaN</td>\n",
       "      <td>NaN</td>\n",
       "      <td>NaN</td>\n",
       "      <td>NaN</td>\n",
       "      <td>NaN</td>\n",
       "      <td>NaN</td>\n",
       "      <td>NaN</td>\n",
       "      <td>NaN</td>\n",
       "      <td>NaN</td>\n",
       "      <td>NaN</td>\n",
       "      <td>NaN</td>\n",
       "      <td>NaN</td>\n",
       "      <td>N</td>\n",
       "      <td>NaN</td>\n",
       "      <td>NaN</td>\n",
       "      <td>NaN</td>\n",
       "      <td>NaN</td>\n",
       "      <td>NaN</td>\n",
       "      <td>NaN</td>\n",
       "      <td>NaN</td>\n",
       "      <td>NaN</td>\n",
       "      <td>NaN</td>\n",
       "      <td>NaN</td>\n",
       "      <td>NaN</td>\n",
       "      <td>NaN</td>\n",
       "      <td>NaN</td>\n",
       "      <td>NaN</td>\n",
       "      <td>N</td>\n",
       "      <td>NaN</td>\n",
       "      <td>NaN</td>\n",
       "      <td>NaN</td>\n",
       "      <td>NaN</td>\n",
       "      <td>NaN</td>\n",
       "      <td>NaN</td>\n",
       "    </tr>\n",
       "  </tbody>\n",
       "</table>\n",
       "</div>"
      ],
      "text/plain": [
       "    id  member_id  loan_amnt  funded_amnt  funded_amnt_inv        term  \\\n",
       "0  NaN        NaN     5000.0       5000.0           4975.0   36 months   \n",
       "\n",
       "  int_rate  installment grade sub_grade emp_title emp_length home_ownership  \\\n",
       "0   10.65%       162.87     B        B2       NaN  10+ years           RENT   \n",
       "\n",
       "   annual_inc verification_status   issue_d loan_status pymnt_plan  url  \\\n",
       "0     24000.0            Verified  Dec-2011  Fully Paid          n  NaN   \n",
       "\n",
       "                                                                             desc  \\\n",
       "0    Borrower added on 12/22/11 > I need to upgrade my business technologies.<br>   \n",
       "\n",
       "       purpose     title zip_code addr_state    dti  delinq_2yrs  \\\n",
       "0  credit_card  Computer    860xx         AZ  27.65          0.0   \n",
       "\n",
       "  earliest_cr_line  inq_last_6mths  mths_since_last_delinq  \\\n",
       "0         Jan-1985             1.0                     NaN   \n",
       "\n",
       "   mths_since_last_record  open_acc  pub_rec  revol_bal revol_util  total_acc  \\\n",
       "0                     NaN       3.0      0.0    13648.0      83.7%        9.0   \n",
       "\n",
       "  initial_list_status  out_prncp  out_prncp_inv  total_pymnt  total_pymnt_inv  \\\n",
       "0                   f        0.0            0.0  5863.155187          5833.84   \n",
       "\n",
       "   total_rec_prncp  total_rec_int  total_rec_late_fee  recoveries  \\\n",
       "0           5000.0         863.16                 0.0         0.0   \n",
       "\n",
       "   collection_recovery_fee last_pymnt_d  last_pymnt_amnt next_pymnt_d  \\\n",
       "0                      0.0     Jan-2015           171.62          NaN   \n",
       "\n",
       "  last_credit_pull_d  collections_12_mths_ex_med  mths_since_last_major_derog  \\\n",
       "0           May-2019                         0.0                          NaN   \n",
       "\n",
       "   policy_code application_type  annual_inc_joint  dti_joint  \\\n",
       "0          1.0       Individual               NaN        NaN   \n",
       "\n",
       "   verification_status_joint  acc_now_delinq  tot_coll_amt  tot_cur_bal  \\\n",
       "0                        NaN             0.0           NaN          NaN   \n",
       "\n",
       "   open_acc_6m  open_act_il  open_il_12m  open_il_24m  mths_since_rcnt_il  \\\n",
       "0          NaN          NaN          NaN          NaN                 NaN   \n",
       "\n",
       "   total_bal_il  il_util  open_rv_12m  open_rv_24m  max_bal_bc  all_util  \\\n",
       "0           NaN      NaN          NaN          NaN         NaN       NaN   \n",
       "\n",
       "   total_rev_hi_lim  inq_fi  total_cu_tl  inq_last_12m  acc_open_past_24mths  \\\n",
       "0               NaN     NaN          NaN           NaN                   NaN   \n",
       "\n",
       "   avg_cur_bal  bc_open_to_buy  bc_util  chargeoff_within_12_mths  \\\n",
       "0          NaN             NaN      NaN                       0.0   \n",
       "\n",
       "   delinq_amnt  mo_sin_old_il_acct  mo_sin_old_rev_tl_op  \\\n",
       "0          0.0                 NaN                   NaN   \n",
       "\n",
       "   mo_sin_rcnt_rev_tl_op  mo_sin_rcnt_tl  mort_acc  mths_since_recent_bc  \\\n",
       "0                    NaN             NaN       NaN                   NaN   \n",
       "\n",
       "   mths_since_recent_bc_dlq  mths_since_recent_inq  \\\n",
       "0                       NaN                    NaN   \n",
       "\n",
       "   mths_since_recent_revol_delinq  num_accts_ever_120_pd  num_actv_bc_tl  \\\n",
       "0                             NaN                    NaN             NaN   \n",
       "\n",
       "   num_actv_rev_tl  num_bc_sats  num_bc_tl  num_il_tl  num_op_rev_tl  \\\n",
       "0              NaN          NaN        NaN        NaN            NaN   \n",
       "\n",
       "   num_rev_accts  num_rev_tl_bal_gt_0  num_sats  num_tl_120dpd_2m  \\\n",
       "0            NaN                  NaN       NaN               NaN   \n",
       "\n",
       "   num_tl_30dpd  num_tl_90g_dpd_24m  num_tl_op_past_12m  pct_tl_nvr_dlq  \\\n",
       "0           NaN                 NaN                 NaN             NaN   \n",
       "\n",
       "   percent_bc_gt_75  pub_rec_bankruptcies  tax_liens  tot_hi_cred_lim  \\\n",
       "0               NaN                   0.0        0.0              NaN   \n",
       "\n",
       "   total_bal_ex_mort  total_bc_limit  total_il_high_credit_limit  \\\n",
       "0                NaN             NaN                         NaN   \n",
       "\n",
       "   revol_bal_joint  sec_app_earliest_cr_line  sec_app_inq_last_6mths  \\\n",
       "0              NaN                       NaN                     NaN   \n",
       "\n",
       "   sec_app_mort_acc  sec_app_open_acc  sec_app_revol_util  \\\n",
       "0               NaN               NaN                 NaN   \n",
       "\n",
       "   sec_app_open_act_il  sec_app_num_rev_accts  \\\n",
       "0                  NaN                    NaN   \n",
       "\n",
       "   sec_app_chargeoff_within_12_mths  sec_app_collections_12_mths_ex_med  \\\n",
       "0                               NaN                                 NaN   \n",
       "\n",
       "   sec_app_mths_since_last_major_derog hardship_flag  hardship_type  \\\n",
       "0                                  NaN             N            NaN   \n",
       "\n",
       "   hardship_reason  hardship_status  deferral_term  hardship_amount  \\\n",
       "0              NaN              NaN            NaN              NaN   \n",
       "\n",
       "   hardship_start_date  hardship_end_date  payment_plan_start_date  \\\n",
       "0                  NaN                NaN                      NaN   \n",
       "\n",
       "   hardship_length  hardship_dpd  hardship_loan_status  \\\n",
       "0              NaN           NaN                   NaN   \n",
       "\n",
       "   orig_projected_additional_accrued_interest  hardship_payoff_balance_amount  \\\n",
       "0                                         NaN                             NaN   \n",
       "\n",
       "   hardship_last_payment_amount debt_settlement_flag  \\\n",
       "0                           NaN                    N   \n",
       "\n",
       "  debt_settlement_flag_date settlement_status settlement_date  \\\n",
       "0                       NaN               NaN             NaN   \n",
       "\n",
       "   settlement_amount  settlement_percentage  settlement_term  \n",
       "0                NaN                    NaN              NaN  "
      ]
     },
     "metadata": {},
     "output_type": "display_data"
    },
    {
     "name": "stdout",
     "output_type": "stream",
     "text": [
      "The number of rows and columns is:  (42538, 144)\n",
      "The value of loan status in this dataset is: \n"
     ]
    },
    {
     "data": {
      "text/plain": [
       "Fully Paid                                             34116\n",
       "Charged Off                                             5670\n",
       "Does not meet the credit policy. Status:Fully Paid      1988\n",
       "Does not meet the credit policy. Status:Charged Off      761\n",
       "Name: loan_status, dtype: int64"
      ]
     },
     "execution_count": 4,
     "metadata": {},
     "output_type": "execute_result"
    }
   ],
   "source": [
    "# load the data from 2007-2011\n",
    "# the first row (row number 0) is only one column, which contains Notes offered by Prospectus (https://www.lendingclub.com/info/prospectus.action)\n",
    "# the second row is actually the columns name, that is wht header=1\n",
    "loans_07_11=pd.read_csv('LoanStats3a.csv', header=1) \n",
    "\n",
    "# view first row\n",
    "display(loans_07_11.head(1))\n",
    "\n",
    "# check the row and columns number\n",
    "print('The number of rows and columns is: ', loans_07_11.shape)\n",
    "\n",
    "print('The value of loan status in this dataset is: ')\n",
    "# view the loan status in this dataset\n",
    "loans_07_11['loan_status'].value_counts()"
   ]
  },
  {
   "cell_type": "markdown",
   "metadata": {},
   "source": [
    "- As expected, since all the loans in this year range are expired, no current loans.\n",
    "- The data is not in a format that can be used to analyze or machine learning, we will clean it later."
   ]
  },
  {
   "cell_type": "markdown",
   "metadata": {},
   "source": [
    "**Now let's read the most recent data file, i.e. loan informations for 2009 Quarter 2**"
   ]
  },
  {
   "cell_type": "code",
   "execution_count": 5,
   "metadata": {},
   "outputs": [
    {
     "data": {
      "text/html": [
       "<div>\n",
       "<style scoped>\n",
       "    .dataframe tbody tr th:only-of-type {\n",
       "        vertical-align: middle;\n",
       "    }\n",
       "\n",
       "    .dataframe tbody tr th {\n",
       "        vertical-align: top;\n",
       "    }\n",
       "\n",
       "    .dataframe thead th {\n",
       "        text-align: right;\n",
       "    }\n",
       "</style>\n",
       "<table border=\"1\" class=\"dataframe\">\n",
       "  <thead>\n",
       "    <tr style=\"text-align: right;\">\n",
       "      <th></th>\n",
       "      <th>id</th>\n",
       "      <th>member_id</th>\n",
       "      <th>loan_amnt</th>\n",
       "      <th>funded_amnt</th>\n",
       "      <th>funded_amnt_inv</th>\n",
       "      <th>term</th>\n",
       "      <th>int_rate</th>\n",
       "      <th>installment</th>\n",
       "      <th>grade</th>\n",
       "      <th>sub_grade</th>\n",
       "      <th>emp_title</th>\n",
       "      <th>emp_length</th>\n",
       "      <th>home_ownership</th>\n",
       "      <th>annual_inc</th>\n",
       "      <th>verification_status</th>\n",
       "      <th>issue_d</th>\n",
       "      <th>loan_status</th>\n",
       "      <th>pymnt_plan</th>\n",
       "      <th>url</th>\n",
       "      <th>desc</th>\n",
       "      <th>purpose</th>\n",
       "      <th>title</th>\n",
       "      <th>zip_code</th>\n",
       "      <th>addr_state</th>\n",
       "      <th>dti</th>\n",
       "      <th>delinq_2yrs</th>\n",
       "      <th>earliest_cr_line</th>\n",
       "      <th>inq_last_6mths</th>\n",
       "      <th>mths_since_last_delinq</th>\n",
       "      <th>mths_since_last_record</th>\n",
       "      <th>open_acc</th>\n",
       "      <th>pub_rec</th>\n",
       "      <th>revol_bal</th>\n",
       "      <th>revol_util</th>\n",
       "      <th>total_acc</th>\n",
       "      <th>initial_list_status</th>\n",
       "      <th>out_prncp</th>\n",
       "      <th>out_prncp_inv</th>\n",
       "      <th>total_pymnt</th>\n",
       "      <th>total_pymnt_inv</th>\n",
       "      <th>total_rec_prncp</th>\n",
       "      <th>total_rec_int</th>\n",
       "      <th>total_rec_late_fee</th>\n",
       "      <th>recoveries</th>\n",
       "      <th>collection_recovery_fee</th>\n",
       "      <th>last_pymnt_d</th>\n",
       "      <th>last_pymnt_amnt</th>\n",
       "      <th>next_pymnt_d</th>\n",
       "      <th>last_credit_pull_d</th>\n",
       "      <th>collections_12_mths_ex_med</th>\n",
       "      <th>mths_since_last_major_derog</th>\n",
       "      <th>policy_code</th>\n",
       "      <th>application_type</th>\n",
       "      <th>annual_inc_joint</th>\n",
       "      <th>dti_joint</th>\n",
       "      <th>verification_status_joint</th>\n",
       "      <th>acc_now_delinq</th>\n",
       "      <th>tot_coll_amt</th>\n",
       "      <th>tot_cur_bal</th>\n",
       "      <th>open_acc_6m</th>\n",
       "      <th>open_act_il</th>\n",
       "      <th>open_il_12m</th>\n",
       "      <th>open_il_24m</th>\n",
       "      <th>mths_since_rcnt_il</th>\n",
       "      <th>total_bal_il</th>\n",
       "      <th>il_util</th>\n",
       "      <th>open_rv_12m</th>\n",
       "      <th>open_rv_24m</th>\n",
       "      <th>max_bal_bc</th>\n",
       "      <th>all_util</th>\n",
       "      <th>total_rev_hi_lim</th>\n",
       "      <th>inq_fi</th>\n",
       "      <th>total_cu_tl</th>\n",
       "      <th>inq_last_12m</th>\n",
       "      <th>acc_open_past_24mths</th>\n",
       "      <th>avg_cur_bal</th>\n",
       "      <th>bc_open_to_buy</th>\n",
       "      <th>bc_util</th>\n",
       "      <th>chargeoff_within_12_mths</th>\n",
       "      <th>delinq_amnt</th>\n",
       "      <th>mo_sin_old_il_acct</th>\n",
       "      <th>mo_sin_old_rev_tl_op</th>\n",
       "      <th>mo_sin_rcnt_rev_tl_op</th>\n",
       "      <th>mo_sin_rcnt_tl</th>\n",
       "      <th>mort_acc</th>\n",
       "      <th>mths_since_recent_bc</th>\n",
       "      <th>mths_since_recent_bc_dlq</th>\n",
       "      <th>mths_since_recent_inq</th>\n",
       "      <th>mths_since_recent_revol_delinq</th>\n",
       "      <th>num_accts_ever_120_pd</th>\n",
       "      <th>num_actv_bc_tl</th>\n",
       "      <th>num_actv_rev_tl</th>\n",
       "      <th>num_bc_sats</th>\n",
       "      <th>num_bc_tl</th>\n",
       "      <th>num_il_tl</th>\n",
       "      <th>num_op_rev_tl</th>\n",
       "      <th>num_rev_accts</th>\n",
       "      <th>num_rev_tl_bal_gt_0</th>\n",
       "      <th>num_sats</th>\n",
       "      <th>num_tl_120dpd_2m</th>\n",
       "      <th>num_tl_30dpd</th>\n",
       "      <th>num_tl_90g_dpd_24m</th>\n",
       "      <th>num_tl_op_past_12m</th>\n",
       "      <th>pct_tl_nvr_dlq</th>\n",
       "      <th>percent_bc_gt_75</th>\n",
       "      <th>pub_rec_bankruptcies</th>\n",
       "      <th>tax_liens</th>\n",
       "      <th>tot_hi_cred_lim</th>\n",
       "      <th>total_bal_ex_mort</th>\n",
       "      <th>total_bc_limit</th>\n",
       "      <th>total_il_high_credit_limit</th>\n",
       "      <th>revol_bal_joint</th>\n",
       "      <th>sec_app_earliest_cr_line</th>\n",
       "      <th>sec_app_inq_last_6mths</th>\n",
       "      <th>sec_app_mort_acc</th>\n",
       "      <th>sec_app_open_acc</th>\n",
       "      <th>sec_app_revol_util</th>\n",
       "      <th>sec_app_open_act_il</th>\n",
       "      <th>sec_app_num_rev_accts</th>\n",
       "      <th>sec_app_chargeoff_within_12_mths</th>\n",
       "      <th>sec_app_collections_12_mths_ex_med</th>\n",
       "      <th>sec_app_mths_since_last_major_derog</th>\n",
       "      <th>hardship_flag</th>\n",
       "      <th>hardship_type</th>\n",
       "      <th>hardship_reason</th>\n",
       "      <th>hardship_status</th>\n",
       "      <th>deferral_term</th>\n",
       "      <th>hardship_amount</th>\n",
       "      <th>hardship_start_date</th>\n",
       "      <th>hardship_end_date</th>\n",
       "      <th>payment_plan_start_date</th>\n",
       "      <th>hardship_length</th>\n",
       "      <th>hardship_dpd</th>\n",
       "      <th>hardship_loan_status</th>\n",
       "      <th>orig_projected_additional_accrued_interest</th>\n",
       "      <th>hardship_payoff_balance_amount</th>\n",
       "      <th>hardship_last_payment_amount</th>\n",
       "      <th>debt_settlement_flag</th>\n",
       "      <th>debt_settlement_flag_date</th>\n",
       "      <th>settlement_status</th>\n",
       "      <th>settlement_date</th>\n",
       "      <th>settlement_amount</th>\n",
       "      <th>settlement_percentage</th>\n",
       "      <th>settlement_term</th>\n",
       "    </tr>\n",
       "  </thead>\n",
       "  <tbody>\n",
       "    <tr>\n",
       "      <th>0</th>\n",
       "      <td>NaN</td>\n",
       "      <td>NaN</td>\n",
       "      <td>32000.0</td>\n",
       "      <td>32000.0</td>\n",
       "      <td>32000.0</td>\n",
       "      <td>60 months</td>\n",
       "      <td>16.95%</td>\n",
       "      <td>794.43</td>\n",
       "      <td>C</td>\n",
       "      <td>C4</td>\n",
       "      <td>Crane Operator</td>\n",
       "      <td>10+ years</td>\n",
       "      <td>MORTGAGE</td>\n",
       "      <td>90000.0</td>\n",
       "      <td>Not Verified</td>\n",
       "      <td>Jun-2019</td>\n",
       "      <td>Issued</td>\n",
       "      <td>n</td>\n",
       "      <td>NaN</td>\n",
       "      <td>NaN</td>\n",
       "      <td>debt_consolidation</td>\n",
       "      <td>Debt consolidation</td>\n",
       "      <td>604xx</td>\n",
       "      <td>IL</td>\n",
       "      <td>34.01</td>\n",
       "      <td>0.0</td>\n",
       "      <td>Jan-1997</td>\n",
       "      <td>0.0</td>\n",
       "      <td>NaN</td>\n",
       "      <td>NaN</td>\n",
       "      <td>6.0</td>\n",
       "      <td>0.0</td>\n",
       "      <td>66227.0</td>\n",
       "      <td>93.3%</td>\n",
       "      <td>11.0</td>\n",
       "      <td>w</td>\n",
       "      <td>32000.0</td>\n",
       "      <td>32000.0</td>\n",
       "      <td>0.0</td>\n",
       "      <td>0.0</td>\n",
       "      <td>0.0</td>\n",
       "      <td>0.0</td>\n",
       "      <td>0.0</td>\n",
       "      <td>0.0</td>\n",
       "      <td>0.0</td>\n",
       "      <td>NaN</td>\n",
       "      <td>0.0</td>\n",
       "      <td>Jul-2019</td>\n",
       "      <td>Jul-2019</td>\n",
       "      <td>0.0</td>\n",
       "      <td>NaN</td>\n",
       "      <td>1.0</td>\n",
       "      <td>Individual</td>\n",
       "      <td>NaN</td>\n",
       "      <td>NaN</td>\n",
       "      <td>NaN</td>\n",
       "      <td>0.0</td>\n",
       "      <td>0.0</td>\n",
       "      <td>153731.0</td>\n",
       "      <td>0.0</td>\n",
       "      <td>1.0</td>\n",
       "      <td>0.0</td>\n",
       "      <td>0.0</td>\n",
       "      <td>38.0</td>\n",
       "      <td>35008.0</td>\n",
       "      <td>NaN</td>\n",
       "      <td>0.0</td>\n",
       "      <td>0.0</td>\n",
       "      <td>29475.0</td>\n",
       "      <td>93.0</td>\n",
       "      <td>71000.0</td>\n",
       "      <td>0.0</td>\n",
       "      <td>0.0</td>\n",
       "      <td>0.0</td>\n",
       "      <td>0.0</td>\n",
       "      <td>25622.0</td>\n",
       "      <td>4773.0</td>\n",
       "      <td>93.3</td>\n",
       "      <td>0.0</td>\n",
       "      <td>0.0</td>\n",
       "      <td>131.0</td>\n",
       "      <td>269.0</td>\n",
       "      <td>69.0</td>\n",
       "      <td>38.0</td>\n",
       "      <td>1.0</td>\n",
       "      <td>69.0</td>\n",
       "      <td>NaN</td>\n",
       "      <td>NaN</td>\n",
       "      <td>NaN</td>\n",
       "      <td>0.0</td>\n",
       "      <td>4.0</td>\n",
       "      <td>4.0</td>\n",
       "      <td>4.0</td>\n",
       "      <td>5.0</td>\n",
       "      <td>4.0</td>\n",
       "      <td>4.0</td>\n",
       "      <td>6.0</td>\n",
       "      <td>4.0</td>\n",
       "      <td>6.0</td>\n",
       "      <td>0.0</td>\n",
       "      <td>0.0</td>\n",
       "      <td>0.0</td>\n",
       "      <td>0.0</td>\n",
       "      <td>100.0</td>\n",
       "      <td>100.0</td>\n",
       "      <td>0.0</td>\n",
       "      <td>0.0</td>\n",
       "      <td>217834.0</td>\n",
       "      <td>101235.0</td>\n",
       "      <td>71000.0</td>\n",
       "      <td>69034.0</td>\n",
       "      <td>NaN</td>\n",
       "      <td>NaN</td>\n",
       "      <td>NaN</td>\n",
       "      <td>NaN</td>\n",
       "      <td>NaN</td>\n",
       "      <td>NaN</td>\n",
       "      <td>NaN</td>\n",
       "      <td>NaN</td>\n",
       "      <td>NaN</td>\n",
       "      <td>NaN</td>\n",
       "      <td>NaN</td>\n",
       "      <td>N</td>\n",
       "      <td>NaN</td>\n",
       "      <td>NaN</td>\n",
       "      <td>NaN</td>\n",
       "      <td>NaN</td>\n",
       "      <td>NaN</td>\n",
       "      <td>NaN</td>\n",
       "      <td>NaN</td>\n",
       "      <td>NaN</td>\n",
       "      <td>NaN</td>\n",
       "      <td>NaN</td>\n",
       "      <td>NaN</td>\n",
       "      <td>NaN</td>\n",
       "      <td>NaN</td>\n",
       "      <td>NaN</td>\n",
       "      <td>N</td>\n",
       "      <td>NaN</td>\n",
       "      <td>NaN</td>\n",
       "      <td>NaN</td>\n",
       "      <td>NaN</td>\n",
       "      <td>NaN</td>\n",
       "      <td>NaN</td>\n",
       "    </tr>\n",
       "  </tbody>\n",
       "</table>\n",
       "</div>"
      ],
      "text/plain": [
       "    id  member_id  loan_amnt  funded_amnt  funded_amnt_inv        term  \\\n",
       "0  NaN        NaN    32000.0      32000.0          32000.0   60 months   \n",
       "\n",
       "  int_rate  installment grade sub_grade       emp_title emp_length  \\\n",
       "0   16.95%       794.43     C        C4  Crane Operator  10+ years   \n",
       "\n",
       "  home_ownership  annual_inc verification_status   issue_d loan_status  \\\n",
       "0       MORTGAGE     90000.0        Not Verified  Jun-2019      Issued   \n",
       "\n",
       "  pymnt_plan  url  desc             purpose               title zip_code  \\\n",
       "0          n  NaN   NaN  debt_consolidation  Debt consolidation    604xx   \n",
       "\n",
       "  addr_state    dti  delinq_2yrs earliest_cr_line  inq_last_6mths  \\\n",
       "0         IL  34.01          0.0         Jan-1997             0.0   \n",
       "\n",
       "   mths_since_last_delinq  mths_since_last_record  open_acc  pub_rec  \\\n",
       "0                     NaN                     NaN       6.0      0.0   \n",
       "\n",
       "   revol_bal revol_util  total_acc initial_list_status  out_prncp  \\\n",
       "0    66227.0      93.3%       11.0                   w    32000.0   \n",
       "\n",
       "   out_prncp_inv  total_pymnt  total_pymnt_inv  total_rec_prncp  \\\n",
       "0        32000.0          0.0              0.0              0.0   \n",
       "\n",
       "   total_rec_int  total_rec_late_fee  recoveries  collection_recovery_fee  \\\n",
       "0            0.0                 0.0         0.0                      0.0   \n",
       "\n",
       "  last_pymnt_d  last_pymnt_amnt next_pymnt_d last_credit_pull_d  \\\n",
       "0          NaN              0.0     Jul-2019           Jul-2019   \n",
       "\n",
       "   collections_12_mths_ex_med  mths_since_last_major_derog  policy_code  \\\n",
       "0                         0.0                          NaN          1.0   \n",
       "\n",
       "  application_type  annual_inc_joint  dti_joint verification_status_joint  \\\n",
       "0       Individual               NaN        NaN                       NaN   \n",
       "\n",
       "   acc_now_delinq  tot_coll_amt  tot_cur_bal  open_acc_6m  open_act_il  \\\n",
       "0             0.0           0.0     153731.0          0.0          1.0   \n",
       "\n",
       "   open_il_12m  open_il_24m  mths_since_rcnt_il  total_bal_il  il_util  \\\n",
       "0          0.0          0.0                38.0       35008.0      NaN   \n",
       "\n",
       "   open_rv_12m  open_rv_24m  max_bal_bc  all_util  total_rev_hi_lim  inq_fi  \\\n",
       "0          0.0          0.0     29475.0      93.0           71000.0     0.0   \n",
       "\n",
       "   total_cu_tl  inq_last_12m  acc_open_past_24mths  avg_cur_bal  \\\n",
       "0          0.0           0.0                   0.0      25622.0   \n",
       "\n",
       "   bc_open_to_buy  bc_util  chargeoff_within_12_mths  delinq_amnt  \\\n",
       "0          4773.0     93.3                       0.0          0.0   \n",
       "\n",
       "   mo_sin_old_il_acct  mo_sin_old_rev_tl_op  mo_sin_rcnt_rev_tl_op  \\\n",
       "0               131.0                 269.0                   69.0   \n",
       "\n",
       "   mo_sin_rcnt_tl  mort_acc  mths_since_recent_bc  mths_since_recent_bc_dlq  \\\n",
       "0            38.0       1.0                  69.0                       NaN   \n",
       "\n",
       "   mths_since_recent_inq  mths_since_recent_revol_delinq  \\\n",
       "0                    NaN                             NaN   \n",
       "\n",
       "   num_accts_ever_120_pd  num_actv_bc_tl  num_actv_rev_tl  num_bc_sats  \\\n",
       "0                    0.0             4.0              4.0          4.0   \n",
       "\n",
       "   num_bc_tl  num_il_tl  num_op_rev_tl  num_rev_accts  num_rev_tl_bal_gt_0  \\\n",
       "0        5.0        4.0            4.0            6.0                  4.0   \n",
       "\n",
       "   num_sats  num_tl_120dpd_2m  num_tl_30dpd  num_tl_90g_dpd_24m  \\\n",
       "0       6.0               0.0           0.0                 0.0   \n",
       "\n",
       "   num_tl_op_past_12m  pct_tl_nvr_dlq  percent_bc_gt_75  pub_rec_bankruptcies  \\\n",
       "0                 0.0           100.0             100.0                   0.0   \n",
       "\n",
       "   tax_liens  tot_hi_cred_lim  total_bal_ex_mort  total_bc_limit  \\\n",
       "0        0.0         217834.0           101235.0         71000.0   \n",
       "\n",
       "   total_il_high_credit_limit  revol_bal_joint sec_app_earliest_cr_line  \\\n",
       "0                     69034.0              NaN                      NaN   \n",
       "\n",
       "   sec_app_inq_last_6mths  sec_app_mort_acc  sec_app_open_acc  \\\n",
       "0                     NaN               NaN               NaN   \n",
       "\n",
       "   sec_app_revol_util  sec_app_open_act_il  sec_app_num_rev_accts  \\\n",
       "0                 NaN                  NaN                    NaN   \n",
       "\n",
       "   sec_app_chargeoff_within_12_mths  sec_app_collections_12_mths_ex_med  \\\n",
       "0                               NaN                                 NaN   \n",
       "\n",
       "   sec_app_mths_since_last_major_derog hardship_flag  hardship_type  \\\n",
       "0                                  NaN             N            NaN   \n",
       "\n",
       "   hardship_reason  hardship_status  deferral_term  hardship_amount  \\\n",
       "0              NaN              NaN            NaN              NaN   \n",
       "\n",
       "   hardship_start_date  hardship_end_date  payment_plan_start_date  \\\n",
       "0                  NaN                NaN                      NaN   \n",
       "\n",
       "   hardship_length  hardship_dpd  hardship_loan_status  \\\n",
       "0              NaN           NaN                   NaN   \n",
       "\n",
       "   orig_projected_additional_accrued_interest  hardship_payoff_balance_amount  \\\n",
       "0                                         NaN                             NaN   \n",
       "\n",
       "   hardship_last_payment_amount debt_settlement_flag  \\\n",
       "0                           NaN                    N   \n",
       "\n",
       "   debt_settlement_flag_date  settlement_status  settlement_date  \\\n",
       "0                        NaN                NaN              NaN   \n",
       "\n",
       "   settlement_amount  settlement_percentage  settlement_term  \n",
       "0                NaN                    NaN              NaN  "
      ]
     },
     "metadata": {},
     "output_type": "display_data"
    },
    {
     "name": "stdout",
     "output_type": "stream",
     "text": [
      "The number of rows and columns is:  (131141, 144)\n",
      "The value of loan status in this dataset is: \n"
     ]
    },
    {
     "data": {
      "text/plain": [
       "Current               119074\n",
       "Issued                  8713\n",
       "Fully Paid              2502\n",
       "In Grace Period          427\n",
       "Late (31-120 days)       221\n",
       "Late (16-30 days)        180\n",
       "Charged Off               22\n",
       "Name: loan_status, dtype: int64"
      ]
     },
     "execution_count": 5,
     "metadata": {},
     "output_type": "execute_result"
    }
   ],
   "source": [
    "# load the data from 2009 quarter 2\n",
    "loans_2019_q2=pd.read_csv('LoanStats_2019Q2.csv',header=1)\n",
    "\n",
    "# view first row\n",
    "display(loans_2019_q2.head(1))\n",
    "\n",
    "# check the row and columns number\n",
    "print('The number of rows and columns is: ',loans_2019_q2.shape)\n",
    "\n",
    "# view the loan status in this dataset\n",
    "print('The value of loan status in this dataset is: ')\n",
    "loans_2019_q2['loan_status'].value_counts()"
   ]
  },
  {
   "cell_type": "markdown",
   "metadata": {},
   "source": [
    "- Since all the loans this data file are from 2019 Quarter 2, most loans have status as **Current**, which means the loan is up to date on all outstanding payments and we don't know whether they will be paid off or charged off. Some loans are **Fully Paid**, it is more likely that they are **pre-paid**. Again, We can read about most of the different loan statuses on the [Lending Club webste](https://help.lendingclub.com/hc/en-us/articles/215488038-What-do-the-different-Note-statuses-mean-).  \n",
    "\n",
    "Next step we will continue load all the other dataset and then combine them all together. (To save space, I will not show all other dataset one by one; I have viewed all of them and found that they all have the same number of columns and same column names, so all the dataset can be combined together using pd.concat)"
   ]
  },
  {
   "cell_type": "code",
   "execution_count": 6,
   "metadata": {},
   "outputs": [],
   "source": [
    "# load the data for 2012 and 2013\n",
    "loans_12_13=pd.read_csv('LoanStats3b.csv', header=1)\n",
    "\n",
    "# load the data for 2014\n",
    "loans_2014=pd.read_csv('LoanStats3c.csv', header=1)\n",
    "\n",
    "# load the data for 2015\n",
    "loans_2015=pd.read_csv('LoanStats3d.csv',header=1)\n",
    "\n",
    "# load the data for 2016 Quarter 1\n",
    "loans_2016_q1=pd.read_csv('LoanStats_2016Q1.csv',header=1)\n",
    "\n",
    "# load the data for 2016 Quarter 2\n",
    "loans_2016_q2=pd.read_csv('LoanStats_2016Q2.csv',header=1)\n",
    "\n",
    "# load the data for 2016 Quarter 3\n",
    "loans_2016_q3=pd.read_csv('LoanStats_2016Q3.csv',header=1)\n",
    "\n",
    "# load the data for 2016 Quarter 4\n",
    "loans_2016_q4=pd.read_csv('LoanStats_2016Q4.csv',header=1)\n",
    "\n",
    "# load the data for 2017 Quarter 1\n",
    "loans_2017_q1=pd.read_csv('LoanStats_2017Q1.csv',header=1)\n",
    "\n",
    "# load the data for 2017 Quarter 2\n",
    "loans_2017_q2=pd.read_csv('LoanStats_2017Q2.csv',header=1)\n",
    "\n",
    "# load the data for 2017 Quarter 3\n",
    "loans_2017_q3=pd.read_csv('LoanStats_2017Q3.csv',header=1)\n",
    "\n",
    "# load the data for 2017 Quarter 4\n",
    "loans_2017_q4=pd.read_csv('LoanStats_2017Q4.csv',header=1)\n",
    "\n",
    "# load the data for 2018 Quarter 1\n",
    "loans_2018_q1=pd.read_csv('LoanStats_2018Q1.csv',header=1)\n",
    "\n",
    "# load the data for 2018 Quarter 2\n",
    "loans_2018_q2=pd.read_csv('LoanStats_2018Q2.csv',header=1)\n",
    "\n",
    "# load the data for 2018 Quarter 3\n",
    "loans_2018_q3=pd.read_csv('LoanStats_2018Q3.csv',header=1)\n",
    "\n",
    "# load the data for 2018 Quarter 4\n",
    "loans_2018_q4=pd.read_csv('LoanStats_2018Q4.csv',header=1)\n",
    "\n",
    "# load the data for 2019 Quarter 1\n",
    "loans_2019_q1=pd.read_csv('LoanStats_2019Q1.csv',header=1)\n",
    "\n",
    "# load the data for 2019 Quarter 2\n",
    "loans_2019_q2=pd.read_csv('LoanStats_2019Q2.csv',header=1)"
   ]
  },
  {
   "cell_type": "markdown",
   "metadata": {},
   "source": [
    "**1.3 Combining all the data files from different years into one files.**"
   ]
  },
  {
   "cell_type": "code",
   "execution_count": 7,
   "metadata": {
    "scrolled": false
   },
   "outputs": [
    {
     "name": "stdout",
     "output_type": "stream",
     "text": [
      "The number of rows and columns is:  (2507519, 144)\n"
     ]
    }
   ],
   "source": [
    "# combine the files together\n",
    "loans_2007_2019 = pd.concat([loans_07_11, loans_12_13, loans_2014, loans_2015, loans_2016_q1, loans_2016_q2,\n",
    "                        loans_2016_q3, loans_2016_q4, loans_2017_q1, loans_2017_q2, loans_2017_q3, loans_2017_q4,\n",
    "                        loans_2018_q1, loans_2018_q2, loans_2018_q3, loans_2018_q4, loans_2019_q1, loans_2019_q2])\n",
    "print('The number of rows and columns is: ', loans_2007_2019.shape)"
   ]
  },
  {
   "cell_type": "markdown",
   "metadata": {},
   "source": [
    "Great! Now we have a massive dataset that contains roughly 2.5 millions loans information. \n",
    "\n",
    "**Aggregate and plot our data**\n",
    "\n",
    "I decided to do this before cleaning because cleaning will remove some rows and made our plot less accurate. "
   ]
  },
  {
   "cell_type": "markdown",
   "metadata": {},
   "source": [
    "**1.4 Visualize the number of loans with the status of fully paid and charged off**\n",
    "\n",
    "Since we're interested in being able to predict which of these 2 values a loan will fall under, we can treat the problem as a binary classification one. We will need to remove all the loans that don't contain either Fully Paid and Charged Off as the loan's status. "
   ]
  },
  {
   "cell_type": "code",
   "execution_count": 8,
   "metadata": {},
   "outputs": [],
   "source": [
    "# Remove all rows that contain values other than Fully Paid or Charged Off for the loan_status column\n",
    "loans_paid_or_default = loans_2007_2019.loc[loans_2007_2019['loan_status'].isin(['Fully Paid', 'Charged Off'])]"
   ]
  },
  {
   "cell_type": "code",
   "execution_count": 9,
   "metadata": {
    "scrolled": true
   },
   "outputs": [
    {
     "data": {
      "text/plain": [
       "Text(0, 0.5, 'The number of loans for each status')"
      ]
     },
     "execution_count": 9,
     "metadata": {},
     "output_type": "execute_result"
    },
    {
     "data": {
      "image/png": "[encoded data removed]",
      "text/plain": [
       "<Figure size 432x432 with 1 Axes>"
      ]
     },
     "metadata": {
      "needs_background": "light"
     },
     "output_type": "display_data"
    }
   ],
   "source": [
    "# code for plotting bar chart for loan status:\n",
    "plt.figure(figsize=(6,6))\n",
    "plt.bar(loans_paid_or_default['loan_status'].value_counts().index, loans_paid_or_default['loan_status'].value_counts().values)\n",
    "plt.title('The number of Fully-paid loans vs Charged-off from 2007 to 2019 Quater2')\n",
    "plt.xlabel('Loan Status')\n",
    "plt.ylabel('The number of loans for each status')"
   ]
  },
  {
   "cell_type": "code",
   "execution_count": 11,
   "metadata": {},
   "outputs": [
    {
     "data": {
      "text/plain": [
       "Fully Paid     1194845\n",
       "Charged Off     290679\n",
       "Name: loan_status, dtype: int64"
      ]
     },
     "execution_count": 11,
     "metadata": {},
     "output_type": "execute_result"
    }
   ],
   "source": [
    "loans_paid_or_default['loan_status'].value_counts()"
   ]
  },
  {
   "cell_type": "code",
   "execution_count": 12,
   "metadata": {},
   "outputs": [
    {
     "name": "stdout",
     "output_type": "stream",
     "text": [
      "The charged off rate for all the loans from 2007 to 2019 is:  0.19567438829665493\n"
     ]
    }
   ],
   "source": [
    "charged_off_rate = 290679/(290679+1194845)\n",
    "\n",
    "print('The charged off rate for all the loans from 2007 to 2019 is: ', charged_off_rate)"
   ]
  },
  {
   "cell_type": "markdown",
   "metadata": {},
   "source": [
    "**Analyze**\n",
    "- Based on these data, the Charged Off rate for all the loans in average is **19.57%**. This means if we choose loans to invest randomly, we could have about 19% of charged off rate. This is very **high risk**.\n",
    "- Charged off rate is similar with default rate. When the borrower default for a certain time, they were charged off by LendingClub."
   ]
  },
  {
   "cell_type": "markdown",
   "metadata": {},
   "source": [
    "**1.5 Visulize information about Loan grade**."
   ]
  },
  {
   "cell_type": "markdown",
   "metadata": {},
   "source": [
    "We still use the dataframe loans_paid_or_default which was filtered above, because this way, it only contains \"Fully Paid\" and \"Charged Off\"\n",
    "\n",
    "1. Convert 'Fully Paid' to 1, 'Charegd Off' to 0; in this way after aggregating the data, we can calculate the average of paid off rate.\n",
    "2. Remove % in interest rate columns and change the data type to float so that we can calculate average interest rate."
   ]
  },
  {
   "cell_type": "code",
   "execution_count": 13,
   "metadata": {},
   "outputs": [],
   "source": [
    "# Convert 'Fully Paid' to 1, 'Charegd Off' to 0\n",
    "status_replace = {\n",
    "    \"loan_status\" : {\n",
    "        \"Fully Paid\": 1,\n",
    "        \"Charged Off\": 0,\n",
    "    }\n",
    "}\n",
    "\n",
    "loans_paid_or_default = loans_paid_or_default.replace(status_replace)\n",
    "\n",
    "# Remove % in int_rate and change the data type to float\n",
    "loans_paid_or_default['int_rate'] = loans_paid_or_default['int_rate'].str.rstrip('%').astype('float')\n",
    "\n",
    "# Aggregate the table by loan grade and calculate the count for each variabels\n",
    "loans_grade_count= loans_paid_or_default.groupby('grade')['loan_amnt'].count()\n",
    "\n",
    "# Aggregate the table by loan grade and calculate the average for each variabels\n",
    "loans_grade_mean = loans_paid_or_default.groupby('grade').mean()"
   ]
  },
  {
   "cell_type": "code",
   "execution_count": 14,
   "metadata": {},
   "outputs": [
    {
     "data": {
      "text/plain": [
       "Text(0, 0.5, 'Average amount per loan (in USD dollars)')"
      ]
     },
     "execution_count": 14,
     "metadata": {},
     "output_type": "execute_result"
    },
    {
     "data": {
      "image/png": "[encoded data removed]",
      "text/plain": [
       "<Figure size 1080x720 with 4 Axes>"
      ]
     },
     "metadata": {
      "needs_background": "light"
     },
     "output_type": "display_data"
    }
   ],
   "source": [
    "plt.figure(figsize = (15,10))\n",
    "\n",
    "plt.subplot(2,2,1)\n",
    "plt.bar(loans_grade_mean.index, (loans_grade_mean['int_rate']*0.01), )\n",
    "plt.title('Loan grade vs average interest rate')\n",
    "plt.xlabel('Loan grade')\n",
    "plt.ylabel('Average interest rate')\n",
    "\n",
    "plt.subplot(2,2,2)\n",
    "plt.bar(loans_grade_mean.index, (1-loans_grade_mean['loan_status']))\n",
    "plt.title('Loan grade vs Average Charged Off Rate')\n",
    "plt.xlabel('Loan grade')\n",
    "plt.ylabel('Average Fully Charge Off')\n",
    "\n",
    "plt.subplot(2,2,3)\n",
    "plt.bar(loans_grade_count.index, loans_grade_count.values)\n",
    "plt.title('Loan grade vs the total count number of loans')\n",
    "plt.xlabel('Loan grade')\n",
    "plt.ylabel('Count number of loans')\n",
    "\n",
    "plt.subplot(2,2,4)\n",
    "plt.bar(loans_grade_mean.index, loans_grade_mean['loan_amnt'])\n",
    "plt.title('Loan grade vs Average amount per loan (in USD dollars)')\n",
    "plt.xlabel('Loan grade')\n",
    "plt.ylabel('Average amount per loan (in USD dollars)')"
   ]
  },
  {
   "cell_type": "markdown",
   "metadata": {},
   "source": [
    "- From the first two plots, we can see as the loan grade goes from A to G, interest rate increases, while Charged Off Rate also goes up. This is not surprise because higher risk compensate with higher interest rate.\n",
    "- The third plot tells us the majority of loans are in grade B and C, followed by A and then D, while the last plot says for the high risk loans E, F, G, as the loan is riskier, the average amount per loans is higher\n",
    "- This implies there are small amount of borrowers who do not have good credit rating actually borrowed more money, 20000 USD in average for G loans. However, half of them are not likely to Fully Paid. Those are high risk loans, as a conservative investor, it is suggested to avoid those loans."
   ]
  },
  {
   "cell_type": "markdown",
   "metadata": {},
   "source": [
    "**As we care most about the risk of the loan, print out the exact number of Charged Off rate and interest rate for each loan grade**"
   ]
  },
  {
   "cell_type": "code",
   "execution_count": 16,
   "metadata": {},
   "outputs": [
    {
     "name": "stdout",
     "output_type": "stream",
     "text": [
      "       charged_off_rate  interest_rate\n",
      "grade                                 \n",
      "A              0.059498       0.071004\n",
      "B              0.132787       0.106659\n",
      "C              0.221431       0.140364\n",
      "D              0.298512       0.178099\n",
      "E              0.378664       0.212713\n",
      "F              0.447809       0.250325\n",
      "G              0.494779       0.278173\n"
     ]
    }
   ],
   "source": [
    "loans_grade_charged_off = 1-loans_paid_or_default.groupby('grade')['loan_status'].mean()\n",
    "loans_grade_interest = (loans_paid_or_default.groupby('grade')['int_rate'].mean())*0.01\n",
    "loans_grade_charged_off = pd.DataFrame(loans_grade_charged_off)\n",
    "\n",
    "loans_grade_charged_off.rename({'loan_status':'charged_off_rate'}, axis=1, inplace=True)\n",
    "loans_grade_interest = pd.DataFrame(loans_grade_interest)\n",
    "loans_grade_interest.rename({'int_rate':'interest_rate'}, axis=1, inplace=True)\n",
    "\n",
    "investment = loans_grade_charged_off.join(loans_grade_interest) \n",
    "print(investment)"
   ]
  },
  {
   "cell_type": "code",
   "execution_count": 17,
   "metadata": {},
   "outputs": [],
   "source": [
    "investment.to_csv('investment.csv', index=False)"
   ]
  },
  {
   "cell_type": "markdown",
   "metadata": {},
   "source": [
    "The Charged Off Rate is very high, especially for E, F, G. \n",
    "\n",
    "Loans with A grade has about 0.059 of Charged Off rate. This means if an investor only choose A loan to invest, there could be '0.059' of the chance that they will lose money. \n",
    "\n",
    "**Note:** \n",
    "\n",
    "1. This charged off rate and interest rate is the average for each grade based on statistic data. When an investor make investment decision, they will know the specific interest rate for each loan, but of course not charged off rate. And this is something we will trying to predict with our machine learning model.\n",
    "\n",
    "2. When a loan is charged off, it does NOT mean that the investor will lose all of their investment; The loan payment schedule is similar like a mortage (the bank gives you a loan for your house and you pay back principle and interest together every month for the same amount of money over the whole morgage term. You may Pre-pay when you start earn more money and you may also unable to pay continiously if you lose your job and then you are 'charged off', but the bank still get some money back). This can explain why the charged off rate is so high and even higher than interest rate. This makes it more difficult to calculate how much lost an investor could have based on average charged off rate. However, for a more conservative investor, one thing for sure is we want the charged off rate as low as possible even though it means we may miss some good investment oppotunity. Understanding this is important for this project, because this will determine which metric should be used in machine learning model. In this project, we want to make a machine leanrning model that make sure investors still make money if some of the loans are charged-off and investor lost all the principal and interests."
   ]
  },
  {
   "cell_type": "markdown",
   "metadata": {},
   "source": [
    "**1.6 Visualize the year trend for peer to peer loans.**\n",
    "\n",
    "1. For the number of loans and the average amounts per loan (USD dolloars), I did not include 2007 and 2019 is because these two years only have half year data.\n",
    "\n",
    "2. For charged off rate and interest rate I only include data from 2007 to 2016, because for the loans from 2017 to 2019, most of them are 'current', i.e. the loans have not expired, so calculating average charged off rate in those years are biased."
   ]
  },
  {
   "cell_type": "code",
   "execution_count": 18,
   "metadata": {},
   "outputs": [],
   "source": [
    "# create a column for loan issue year\n",
    "loans_2007_2019['issue_year'] = pd.DatetimeIndex(loans_2007_2019['issue_d']).year\n",
    "\n",
    "# Filter the data not include 2007 and 2019\n",
    "loans_2008_2018 = loans_2007_2019[(loans_2007_2019['issue_year']!=2007)&\n",
    "                                  (loans_2007_2019['issue_year']!=2019)]\n",
    "\n",
    "# calculate the total number of loans issued for each year, # each row is one loan\n",
    "loans_year_count = loans_2008_2018.groupby('issue_year')['loan_amnt'].count() \n",
    "\n",
    "# calculate the average amounts of loans (USD dolloars) from 2008 to 2018, each loan has different amount\n",
    "loans_year_average = loans_2008_2018.groupby('issue_year')['loan_amnt'].mean()\n",
    "\n",
    "# calculate the avegrage of 'Fully paid rate' from 2007 to 2016\n",
    "\n",
    "loans_paid_or_default['issue_year'] = pd.DatetimeIndex(loans_paid_or_default['issue_d']).year\n",
    "loans_2007_2016 = loans_paid_or_default[(loans_paid_or_default['issue_year']!=2017)&\n",
    "                                                      (loans_paid_or_default['issue_year']!=2018)&\n",
    "                                                      (loans_paid_or_default['issue_year']!=2019)]\n",
    "\n",
    "loans_2007_2016_loan_status = loans_2007_2016.groupby('issue_year')['loan_status'].mean()\n",
    "\n",
    "loans_2007_2016_interest = loans_2007_2016.groupby('issue_year')['int_rate'].mean()"
   ]
  },
  {
   "cell_type": "code",
   "execution_count": 19,
   "metadata": {},
   "outputs": [
    {
     "data": {
      "text/plain": [
       "Text(0, 0.5, 'Average Interest Rate (%)')"
      ]
     },
     "execution_count": 19,
     "metadata": {},
     "output_type": "execute_result"
    },
    {
     "data": {
      "image/png": "[encoded data removed]",
      "text/plain": [
       "<Figure size 1080x720 with 4 Axes>"
      ]
     },
     "metadata": {
      "needs_background": "light"
     },
     "output_type": "display_data"
    }
   ],
   "source": [
    "plt.figure(figsize = (15,10))\n",
    "\n",
    "# Visualize the total number of loans from 2008 to 2018\n",
    "plt.subplot(2,2,1)\n",
    "plt.bar(loans_year_count.index, loans_year_count.values)\n",
    "plt.title('Total count number of loans from 2008 to 2018')\n",
    "plt.xlabel('Year from 2008 to 2018')\n",
    "plt.ylabel('The number of loans')\n",
    "\n",
    "# Visualize the average amounts of per loan (USD dolloars) from 2008 to 2018 \n",
    "plt.subplot(2,2,2)\n",
    "plt.bar(loans_year_average.index, loans_year_average.values)\n",
    "plt.title(' Average amounts per loan (USD dolloars) from 2008 to 2018 ')\n",
    "plt.xlabel('Year from 2008 to 2018')\n",
    "plt.ylabel('The Average amounts per loan in USD dolloars')\n",
    "\n",
    "plt.subplot(2,2,3)\n",
    "plt.bar(loans_2007_2016_loan_status.index, (1-loans_2007_2016_loan_status.values))\n",
    "plt.title(' Average Charged Off Rate from 2007 to 2016')\n",
    "plt.xlabel('Year from 2007 to 2016')\n",
    "plt.ylabel('Average Pail Off Rate')\n",
    "\n",
    "plt.subplot(2,2,4)\n",
    "plt.bar(loans_2007_2016_interest.index, loans_2007_2016_interest.values)\n",
    "plt.title(' Average Interest Rate (%) from 2007 to 2016')\n",
    "plt.xlabel('Year from 2007 to 2016')\n",
    "plt.ylabel('Average Interest Rate (%)')"
   ]
  },
  {
   "cell_type": "markdown",
   "metadata": {},
   "source": [
    "- From the first two chart, we can clearly see from 2008 to 2018, the number of loans issued increased sharply. After 2015, it continued to increase, but growth is more slowly. However 2018 has good growth compared with 2017. The average amount of per loan also increased from 2008 to 2018. This again proved the growth in popularity of Peer to Peer lending in the last decade. According to PwC, U.S. peer-to-peer lending platforms’ origination volumes have grown an average of 84% per quarter since 2007. Read more [here](https://www.pwc.com/us/en/industries/banking-capital-markets/consumer-finance/library.html)\n",
    "- The last two charts show the charged off rate decreased a little bit from 2007 to 2009, and since then it keeps going up, this means the risk of investment is becoming higher. Interest rate increased unitl 2013 and then went down."
   ]
  },
  {
   "cell_type": "markdown",
   "metadata": {},
   "source": [
    "Now we have done some analyzing and plotting, we can start to clean our data to prepare for machine learning. \n",
    "\n",
    "**Take 20% of the data and save it as Test Data - The first train test split**\n",
    "\n",
    "Note that this is not the same train test split we do to test our model. The other 80% of the data will be split again in Part 2 to test the model and select the best one. The *test data* we have from this stage will be saved to a new file as raw new data to test if our model is applicable for new data. This is to mimic the real world situation to prevent the case that we build a model, but can not applied to new data. The data cleaning process I will do in next part will only clean the 80% of *Training data*. Then I will write a script about all the cleaning and pre-processing step into a function, and use this function to process new data in order to fit the model. "
   ]
  },
  {
   "cell_type": "markdown",
   "metadata": {},
   "source": [
    "**Before changing our data, filter the data and save a file for 2019 current loan data for future use**\n",
    "\n",
    "These are the loans that we don't know whether it will be fully paid back. This can be used as new data to test our model in the future"
   ]
  },
  {
   "cell_type": "code",
   "execution_count": 21,
   "metadata": {},
   "outputs": [
    {
     "name": "stdout",
     "output_type": "stream",
     "text": [
      "The number of rows and columns is:  (980902, 145)\n"
     ]
    }
   ],
   "source": [
    "# The filter the data again to only select the data in 2019.\n",
    "loans_2019_current = loans_2007_2019[(loans_2007_2019['loan_status']=='Current')\n",
    "                                     |(loans_2007_2019['loan_status']=='Issued')\n",
    "                                     &(loans_2007_2019['issue_year']==2019)]\n",
    "\n",
    "print('The number of rows and columns is: ', loans_2019_current.shape)\n",
    "\n",
    "# save this file\n",
    "loans_2019_current.to_csv('loans_2019_current.csv', index=False)"
   ]
  },
  {
   "cell_type": "markdown",
   "metadata": {},
   "source": [
    "**Filter the data with `loan_status` as 'Fully Paid' and 'Charged Off' for building machine learning model**\n",
    "\n",
    "We only need the loans either 'Fully Paid' or 'Charged Off', and our model will be a binary classification."
   ]
  },
  {
   "cell_type": "code",
   "execution_count": 22,
   "metadata": {},
   "outputs": [
    {
     "name": "stdout",
     "output_type": "stream",
     "text": [
      "The number of rows and columns is:  (1485524, 145)\n"
     ]
    }
   ],
   "source": [
    "# Remove all rows that contain have loan status other than Fully Paid or Charged Off \n",
    "loans_2007_2019_paid_or_default = loans_2007_2019.loc[loans_2007_2019['loan_status'].isin(['Fully Paid', 'Charged Off'])]\n",
    "\n",
    "print('The number of rows and columns is: ', loans_2007_2019_paid_or_default.shape)"
   ]
  },
  {
   "cell_type": "markdown",
   "metadata": {},
   "source": [
    "**Convert target column `loan_status` to 0 and 1**"
   ]
  },
  {
   "cell_type": "code",
   "execution_count": 23,
   "metadata": {},
   "outputs": [],
   "source": [
    "status_replace = {\n",
    "    \"loan_status\" : {\n",
    "        \"Fully Paid\": 1,\n",
    "        \"Charged Off\": 0,\n",
    "    }\n",
    "}\n",
    "\n",
    "loans_2007_2019_paid_or_default = loans_2007_2019_paid_or_default.replace(status_replace)"
   ]
  },
  {
   "cell_type": "code",
   "execution_count": 24,
   "metadata": {},
   "outputs": [],
   "source": [
    "features = loans_2007_2019_paid_or_default.drop('loan_status', axis=1)\n",
    "\n",
    "target = loans_2007_2019_paid_or_default['loan_status']"
   ]
  },
  {
   "cell_type": "markdown",
   "metadata": {},
   "source": [
    "**Take 20% of the data as Test Data**"
   ]
  },
  {
   "cell_type": "code",
   "execution_count": 25,
   "metadata": {},
   "outputs": [],
   "source": [
    "from sklearn.model_selection import train_test_split\n",
    "\n",
    "X_train, X_test, y_train, y_test = train_test_split(features, target, test_size=0.2, random_state=42)"
   ]
  },
  {
   "cell_type": "markdown",
   "metadata": {},
   "source": [
    "**Save test data**"
   ]
  },
  {
   "cell_type": "code",
   "execution_count": 26,
   "metadata": {},
   "outputs": [],
   "source": [
    "X_test.to_csv('X_test.csv', index=False)\n",
    "y_test.to_csv('y_test.csv', index=False)"
   ]
  },
  {
   "cell_type": "markdown",
   "metadata": {},
   "source": [
    "**Join X_train and y_train together, since they have the same index and rename as 'loans_2007_2019'**\n",
    "\n",
    "This is to make sure during the cleaning process, the X_train and y_train are in the same index and same length. "
   ]
  },
  {
   "cell_type": "code",
   "execution_count": 27,
   "metadata": {},
   "outputs": [
    {
     "data": {
      "text/plain": [
       "((1188419, 144), (1188419,))"
      ]
     },
     "execution_count": 27,
     "metadata": {},
     "output_type": "execute_result"
    }
   ],
   "source": [
    "X_train.shape, y_train.shape"
   ]
  },
  {
   "cell_type": "code",
   "execution_count": 28,
   "metadata": {
    "scrolled": true
   },
   "outputs": [
    {
     "data": {
      "text/html": [
       "<div>\n",
       "<style scoped>\n",
       "    .dataframe tbody tr th:only-of-type {\n",
       "        vertical-align: middle;\n",
       "    }\n",
       "\n",
       "    .dataframe tbody tr th {\n",
       "        vertical-align: top;\n",
       "    }\n",
       "\n",
       "    .dataframe thead th {\n",
       "        text-align: right;\n",
       "    }\n",
       "</style>\n",
       "<table border=\"1\" class=\"dataframe\">\n",
       "  <thead>\n",
       "    <tr style=\"text-align: right;\">\n",
       "      <th></th>\n",
       "      <th>id</th>\n",
       "      <th>member_id</th>\n",
       "      <th>loan_amnt</th>\n",
       "      <th>funded_amnt</th>\n",
       "      <th>funded_amnt_inv</th>\n",
       "      <th>term</th>\n",
       "      <th>int_rate</th>\n",
       "      <th>installment</th>\n",
       "      <th>grade</th>\n",
       "      <th>sub_grade</th>\n",
       "      <th>emp_title</th>\n",
       "      <th>emp_length</th>\n",
       "      <th>home_ownership</th>\n",
       "      <th>annual_inc</th>\n",
       "      <th>verification_status</th>\n",
       "      <th>issue_d</th>\n",
       "      <th>pymnt_plan</th>\n",
       "      <th>url</th>\n",
       "      <th>desc</th>\n",
       "      <th>purpose</th>\n",
       "      <th>title</th>\n",
       "      <th>zip_code</th>\n",
       "      <th>addr_state</th>\n",
       "      <th>dti</th>\n",
       "      <th>delinq_2yrs</th>\n",
       "      <th>earliest_cr_line</th>\n",
       "      <th>inq_last_6mths</th>\n",
       "      <th>mths_since_last_delinq</th>\n",
       "      <th>mths_since_last_record</th>\n",
       "      <th>open_acc</th>\n",
       "      <th>pub_rec</th>\n",
       "      <th>revol_bal</th>\n",
       "      <th>revol_util</th>\n",
       "      <th>total_acc</th>\n",
       "      <th>initial_list_status</th>\n",
       "      <th>out_prncp</th>\n",
       "      <th>out_prncp_inv</th>\n",
       "      <th>total_pymnt</th>\n",
       "      <th>total_pymnt_inv</th>\n",
       "      <th>total_rec_prncp</th>\n",
       "      <th>total_rec_int</th>\n",
       "      <th>total_rec_late_fee</th>\n",
       "      <th>recoveries</th>\n",
       "      <th>collection_recovery_fee</th>\n",
       "      <th>last_pymnt_d</th>\n",
       "      <th>last_pymnt_amnt</th>\n",
       "      <th>next_pymnt_d</th>\n",
       "      <th>last_credit_pull_d</th>\n",
       "      <th>collections_12_mths_ex_med</th>\n",
       "      <th>mths_since_last_major_derog</th>\n",
       "      <th>policy_code</th>\n",
       "      <th>application_type</th>\n",
       "      <th>annual_inc_joint</th>\n",
       "      <th>dti_joint</th>\n",
       "      <th>verification_status_joint</th>\n",
       "      <th>acc_now_delinq</th>\n",
       "      <th>tot_coll_amt</th>\n",
       "      <th>tot_cur_bal</th>\n",
       "      <th>open_acc_6m</th>\n",
       "      <th>open_act_il</th>\n",
       "      <th>open_il_12m</th>\n",
       "      <th>open_il_24m</th>\n",
       "      <th>mths_since_rcnt_il</th>\n",
       "      <th>total_bal_il</th>\n",
       "      <th>il_util</th>\n",
       "      <th>open_rv_12m</th>\n",
       "      <th>open_rv_24m</th>\n",
       "      <th>max_bal_bc</th>\n",
       "      <th>all_util</th>\n",
       "      <th>total_rev_hi_lim</th>\n",
       "      <th>inq_fi</th>\n",
       "      <th>total_cu_tl</th>\n",
       "      <th>inq_last_12m</th>\n",
       "      <th>acc_open_past_24mths</th>\n",
       "      <th>avg_cur_bal</th>\n",
       "      <th>bc_open_to_buy</th>\n",
       "      <th>bc_util</th>\n",
       "      <th>chargeoff_within_12_mths</th>\n",
       "      <th>delinq_amnt</th>\n",
       "      <th>mo_sin_old_il_acct</th>\n",
       "      <th>mo_sin_old_rev_tl_op</th>\n",
       "      <th>mo_sin_rcnt_rev_tl_op</th>\n",
       "      <th>mo_sin_rcnt_tl</th>\n",
       "      <th>mort_acc</th>\n",
       "      <th>mths_since_recent_bc</th>\n",
       "      <th>mths_since_recent_bc_dlq</th>\n",
       "      <th>mths_since_recent_inq</th>\n",
       "      <th>mths_since_recent_revol_delinq</th>\n",
       "      <th>num_accts_ever_120_pd</th>\n",
       "      <th>num_actv_bc_tl</th>\n",
       "      <th>num_actv_rev_tl</th>\n",
       "      <th>num_bc_sats</th>\n",
       "      <th>num_bc_tl</th>\n",
       "      <th>num_il_tl</th>\n",
       "      <th>num_op_rev_tl</th>\n",
       "      <th>num_rev_accts</th>\n",
       "      <th>num_rev_tl_bal_gt_0</th>\n",
       "      <th>num_sats</th>\n",
       "      <th>num_tl_120dpd_2m</th>\n",
       "      <th>num_tl_30dpd</th>\n",
       "      <th>num_tl_90g_dpd_24m</th>\n",
       "      <th>num_tl_op_past_12m</th>\n",
       "      <th>pct_tl_nvr_dlq</th>\n",
       "      <th>percent_bc_gt_75</th>\n",
       "      <th>pub_rec_bankruptcies</th>\n",
       "      <th>tax_liens</th>\n",
       "      <th>tot_hi_cred_lim</th>\n",
       "      <th>total_bal_ex_mort</th>\n",
       "      <th>total_bc_limit</th>\n",
       "      <th>total_il_high_credit_limit</th>\n",
       "      <th>revol_bal_joint</th>\n",
       "      <th>sec_app_earliest_cr_line</th>\n",
       "      <th>sec_app_inq_last_6mths</th>\n",
       "      <th>sec_app_mort_acc</th>\n",
       "      <th>sec_app_open_acc</th>\n",
       "      <th>sec_app_revol_util</th>\n",
       "      <th>sec_app_open_act_il</th>\n",
       "      <th>sec_app_num_rev_accts</th>\n",
       "      <th>sec_app_chargeoff_within_12_mths</th>\n",
       "      <th>sec_app_collections_12_mths_ex_med</th>\n",
       "      <th>sec_app_mths_since_last_major_derog</th>\n",
       "      <th>hardship_flag</th>\n",
       "      <th>hardship_type</th>\n",
       "      <th>hardship_reason</th>\n",
       "      <th>hardship_status</th>\n",
       "      <th>deferral_term</th>\n",
       "      <th>hardship_amount</th>\n",
       "      <th>hardship_start_date</th>\n",
       "      <th>hardship_end_date</th>\n",
       "      <th>payment_plan_start_date</th>\n",
       "      <th>hardship_length</th>\n",
       "      <th>hardship_dpd</th>\n",
       "      <th>hardship_loan_status</th>\n",
       "      <th>orig_projected_additional_accrued_interest</th>\n",
       "      <th>hardship_payoff_balance_amount</th>\n",
       "      <th>hardship_last_payment_amount</th>\n",
       "      <th>debt_settlement_flag</th>\n",
       "      <th>debt_settlement_flag_date</th>\n",
       "      <th>settlement_status</th>\n",
       "      <th>settlement_date</th>\n",
       "      <th>settlement_amount</th>\n",
       "      <th>settlement_percentage</th>\n",
       "      <th>settlement_term</th>\n",
       "      <th>issue_year</th>\n",
       "    </tr>\n",
       "  </thead>\n",
       "  <tbody>\n",
       "    <tr>\n",
       "      <th>118451</th>\n",
       "      <td>NaN</td>\n",
       "      <td>NaN</td>\n",
       "      <td>16000.0</td>\n",
       "      <td>16000.0</td>\n",
       "      <td>16000.0</td>\n",
       "      <td>36 months</td>\n",
       "      <td>11.14%</td>\n",
       "      <td>524.89</td>\n",
       "      <td>B</td>\n",
       "      <td>B2</td>\n",
       "      <td>American Association for Clinical Chemis</td>\n",
       "      <td>8 years</td>\n",
       "      <td>RENT</td>\n",
       "      <td>65000.0</td>\n",
       "      <td>Not Verified</td>\n",
       "      <td>Mar-2013</td>\n",
       "      <td>n</td>\n",
       "      <td>NaN</td>\n",
       "      <td>Borrower added on 02/22/13 &gt; I had a previous loan at Lending Club and paid it off. Now I want to consolidate a few remaining credit cards. I'm almost debt free now!&lt;br&gt;</td>\n",
       "      <td>credit_card</td>\n",
       "      <td>Ditch the rest of the credit cards</td>\n",
       "      <td>223xx</td>\n",
       "      <td>VA</td>\n",
       "      <td>15.76</td>\n",
       "      <td>0.0</td>\n",
       "      <td>May-2000</td>\n",
       "      <td>1.0</td>\n",
       "      <td>NaN</td>\n",
       "      <td>NaN</td>\n",
       "      <td>9.0</td>\n",
       "      <td>0.0</td>\n",
       "      <td>13484.0</td>\n",
       "      <td>37.6%</td>\n",
       "      <td>14.0</td>\n",
       "      <td>f</td>\n",
       "      <td>0.0</td>\n",
       "      <td>0.0</td>\n",
       "      <td>18847.83</td>\n",
       "      <td>18847.83</td>\n",
       "      <td>16000.0</td>\n",
       "      <td>2847.83</td>\n",
       "      <td>0.0</td>\n",
       "      <td>0.0</td>\n",
       "      <td>0.0</td>\n",
       "      <td>Nov-2015</td>\n",
       "      <td>2576.24</td>\n",
       "      <td>NaN</td>\n",
       "      <td>Nov-2015</td>\n",
       "      <td>0.0</td>\n",
       "      <td>NaN</td>\n",
       "      <td>1.0</td>\n",
       "      <td>Individual</td>\n",
       "      <td>NaN</td>\n",
       "      <td>NaN</td>\n",
       "      <td>NaN</td>\n",
       "      <td>0.0</td>\n",
       "      <td>0.0</td>\n",
       "      <td>39639.0</td>\n",
       "      <td>NaN</td>\n",
       "      <td>NaN</td>\n",
       "      <td>NaN</td>\n",
       "      <td>NaN</td>\n",
       "      <td>NaN</td>\n",
       "      <td>NaN</td>\n",
       "      <td>NaN</td>\n",
       "      <td>NaN</td>\n",
       "      <td>NaN</td>\n",
       "      <td>NaN</td>\n",
       "      <td>NaN</td>\n",
       "      <td>35900.0</td>\n",
       "      <td>NaN</td>\n",
       "      <td>NaN</td>\n",
       "      <td>NaN</td>\n",
       "      <td>3.0</td>\n",
       "      <td>4404.0</td>\n",
       "      <td>20256.0</td>\n",
       "      <td>38.1</td>\n",
       "      <td>0.0</td>\n",
       "      <td>0.0</td>\n",
       "      <td>130.0</td>\n",
       "      <td>155.0</td>\n",
       "      <td>7.0</td>\n",
       "      <td>3.0</td>\n",
       "      <td>0.0</td>\n",
       "      <td>7.0</td>\n",
       "      <td>NaN</td>\n",
       "      <td>3.0</td>\n",
       "      <td>NaN</td>\n",
       "      <td>0.0</td>\n",
       "      <td>3.0</td>\n",
       "      <td>4.0</td>\n",
       "      <td>5.0</td>\n",
       "      <td>6.0</td>\n",
       "      <td>5.0</td>\n",
       "      <td>6.0</td>\n",
       "      <td>8.0</td>\n",
       "      <td>4.0</td>\n",
       "      <td>9.0</td>\n",
       "      <td>0.0</td>\n",
       "      <td>0.0</td>\n",
       "      <td>0.0</td>\n",
       "      <td>2.0</td>\n",
       "      <td>100.0</td>\n",
       "      <td>20.0</td>\n",
       "      <td>0.0</td>\n",
       "      <td>0.0</td>\n",
       "      <td>63549.0</td>\n",
       "      <td>39639.0</td>\n",
       "      <td>32700.0</td>\n",
       "      <td>25728.0</td>\n",
       "      <td>NaN</td>\n",
       "      <td>NaN</td>\n",
       "      <td>NaN</td>\n",
       "      <td>NaN</td>\n",
       "      <td>NaN</td>\n",
       "      <td>NaN</td>\n",
       "      <td>NaN</td>\n",
       "      <td>NaN</td>\n",
       "      <td>NaN</td>\n",
       "      <td>NaN</td>\n",
       "      <td>NaN</td>\n",
       "      <td>N</td>\n",
       "      <td>NaN</td>\n",
       "      <td>NaN</td>\n",
       "      <td>NaN</td>\n",
       "      <td>NaN</td>\n",
       "      <td>NaN</td>\n",
       "      <td>NaN</td>\n",
       "      <td>NaN</td>\n",
       "      <td>NaN</td>\n",
       "      <td>NaN</td>\n",
       "      <td>NaN</td>\n",
       "      <td>NaN</td>\n",
       "      <td>NaN</td>\n",
       "      <td>NaN</td>\n",
       "      <td>NaN</td>\n",
       "      <td>N</td>\n",
       "      <td>NaN</td>\n",
       "      <td>NaN</td>\n",
       "      <td>NaN</td>\n",
       "      <td>NaN</td>\n",
       "      <td>NaN</td>\n",
       "      <td>NaN</td>\n",
       "      <td>2013.0</td>\n",
       "    </tr>\n",
       "  </tbody>\n",
       "</table>\n",
       "</div>"
      ],
      "text/plain": [
       "         id  member_id  loan_amnt  funded_amnt  funded_amnt_inv        term  \\\n",
       "118451  NaN        NaN    16000.0      16000.0          16000.0   36 months   \n",
       "\n",
       "       int_rate  installment grade sub_grade  \\\n",
       "118451   11.14%       524.89     B        B2   \n",
       "\n",
       "                                       emp_title emp_length home_ownership  \\\n",
       "118451  American Association for Clinical Chemis    8 years           RENT   \n",
       "\n",
       "        annual_inc verification_status   issue_d pymnt_plan  url  \\\n",
       "118451     65000.0        Not Verified  Mar-2013          n  NaN   \n",
       "\n",
       "                                                                                                                                                                               desc  \\\n",
       "118451    Borrower added on 02/22/13 > I had a previous loan at Lending Club and paid it off. Now I want to consolidate a few remaining credit cards. I'm almost debt free now!<br>   \n",
       "\n",
       "            purpose                               title zip_code addr_state  \\\n",
       "118451  credit_card  Ditch the rest of the credit cards    223xx         VA   \n",
       "\n",
       "          dti  delinq_2yrs earliest_cr_line  inq_last_6mths  \\\n",
       "118451  15.76          0.0         May-2000             1.0   \n",
       "\n",
       "        mths_since_last_delinq  mths_since_last_record  open_acc  pub_rec  \\\n",
       "118451                     NaN                     NaN       9.0      0.0   \n",
       "\n",
       "        revol_bal revol_util  total_acc initial_list_status  out_prncp  \\\n",
       "118451    13484.0      37.6%       14.0                   f        0.0   \n",
       "\n",
       "        out_prncp_inv  total_pymnt  total_pymnt_inv  total_rec_prncp  \\\n",
       "118451            0.0     18847.83         18847.83          16000.0   \n",
       "\n",
       "        total_rec_int  total_rec_late_fee  recoveries  \\\n",
       "118451        2847.83                 0.0         0.0   \n",
       "\n",
       "        collection_recovery_fee last_pymnt_d  last_pymnt_amnt next_pymnt_d  \\\n",
       "118451                      0.0     Nov-2015          2576.24          NaN   \n",
       "\n",
       "       last_credit_pull_d  collections_12_mths_ex_med  \\\n",
       "118451           Nov-2015                         0.0   \n",
       "\n",
       "        mths_since_last_major_derog  policy_code application_type  \\\n",
       "118451                          NaN          1.0       Individual   \n",
       "\n",
       "        annual_inc_joint  dti_joint verification_status_joint  acc_now_delinq  \\\n",
       "118451               NaN        NaN                       NaN             0.0   \n",
       "\n",
       "        tot_coll_amt  tot_cur_bal  open_acc_6m  open_act_il  open_il_12m  \\\n",
       "118451           0.0      39639.0          NaN          NaN          NaN   \n",
       "\n",
       "        open_il_24m  mths_since_rcnt_il  total_bal_il  il_util  open_rv_12m  \\\n",
       "118451          NaN                 NaN           NaN      NaN          NaN   \n",
       "\n",
       "        open_rv_24m  max_bal_bc  all_util  total_rev_hi_lim  inq_fi  \\\n",
       "118451          NaN         NaN       NaN           35900.0     NaN   \n",
       "\n",
       "        total_cu_tl  inq_last_12m  acc_open_past_24mths  avg_cur_bal  \\\n",
       "118451          NaN           NaN                   3.0       4404.0   \n",
       "\n",
       "        bc_open_to_buy  bc_util  chargeoff_within_12_mths  delinq_amnt  \\\n",
       "118451         20256.0     38.1                       0.0          0.0   \n",
       "\n",
       "        mo_sin_old_il_acct  mo_sin_old_rev_tl_op  mo_sin_rcnt_rev_tl_op  \\\n",
       "118451               130.0                 155.0                    7.0   \n",
       "\n",
       "        mo_sin_rcnt_tl  mort_acc  mths_since_recent_bc  \\\n",
       "118451             3.0       0.0                   7.0   \n",
       "\n",
       "        mths_since_recent_bc_dlq  mths_since_recent_inq  \\\n",
       "118451                       NaN                    3.0   \n",
       "\n",
       "        mths_since_recent_revol_delinq  num_accts_ever_120_pd  num_actv_bc_tl  \\\n",
       "118451                             NaN                    0.0             3.0   \n",
       "\n",
       "        num_actv_rev_tl  num_bc_sats  num_bc_tl  num_il_tl  num_op_rev_tl  \\\n",
       "118451              4.0          5.0        6.0        5.0            6.0   \n",
       "\n",
       "        num_rev_accts  num_rev_tl_bal_gt_0  num_sats  num_tl_120dpd_2m  \\\n",
       "118451            8.0                  4.0       9.0               0.0   \n",
       "\n",
       "        num_tl_30dpd  num_tl_90g_dpd_24m  num_tl_op_past_12m  pct_tl_nvr_dlq  \\\n",
       "118451           0.0                 0.0                 2.0           100.0   \n",
       "\n",
       "        percent_bc_gt_75  pub_rec_bankruptcies  tax_liens  tot_hi_cred_lim  \\\n",
       "118451              20.0                   0.0        0.0          63549.0   \n",
       "\n",
       "        total_bal_ex_mort  total_bc_limit  total_il_high_credit_limit  \\\n",
       "118451            39639.0         32700.0                     25728.0   \n",
       "\n",
       "        revol_bal_joint sec_app_earliest_cr_line  sec_app_inq_last_6mths  \\\n",
       "118451              NaN                      NaN                     NaN   \n",
       "\n",
       "        sec_app_mort_acc  sec_app_open_acc  sec_app_revol_util  \\\n",
       "118451               NaN               NaN                 NaN   \n",
       "\n",
       "        sec_app_open_act_il  sec_app_num_rev_accts  \\\n",
       "118451                  NaN                    NaN   \n",
       "\n",
       "        sec_app_chargeoff_within_12_mths  sec_app_collections_12_mths_ex_med  \\\n",
       "118451                               NaN                                 NaN   \n",
       "\n",
       "        sec_app_mths_since_last_major_derog hardship_flag hardship_type  \\\n",
       "118451                                  NaN             N           NaN   \n",
       "\n",
       "       hardship_reason hardship_status  deferral_term  hardship_amount  \\\n",
       "118451             NaN             NaN            NaN              NaN   \n",
       "\n",
       "       hardship_start_date hardship_end_date payment_plan_start_date  \\\n",
       "118451                 NaN               NaN                     NaN   \n",
       "\n",
       "        hardship_length  hardship_dpd hardship_loan_status  \\\n",
       "118451              NaN           NaN                  NaN   \n",
       "\n",
       "        orig_projected_additional_accrued_interest  \\\n",
       "118451                                         NaN   \n",
       "\n",
       "        hardship_payoff_balance_amount  hardship_last_payment_amount  \\\n",
       "118451                             NaN                           NaN   \n",
       "\n",
       "       debt_settlement_flag debt_settlement_flag_date settlement_status  \\\n",
       "118451                    N                       NaN               NaN   \n",
       "\n",
       "       settlement_date  settlement_amount  settlement_percentage  \\\n",
       "118451             NaN                NaN                    NaN   \n",
       "\n",
       "        settlement_term  issue_year  \n",
       "118451              NaN      2013.0  "
      ]
     },
     "execution_count": 28,
     "metadata": {},
     "output_type": "execute_result"
    }
   ],
   "source": [
    "X_train.head(1)"
   ]
  },
  {
   "cell_type": "code",
   "execution_count": 29,
   "metadata": {},
   "outputs": [],
   "source": [
    "y_train = pd.DataFrame(y_train)"
   ]
  },
  {
   "cell_type": "code",
   "execution_count": 30,
   "metadata": {},
   "outputs": [
    {
     "data": {
      "text/html": [
       "<div>\n",
       "<style scoped>\n",
       "    .dataframe tbody tr th:only-of-type {\n",
       "        vertical-align: middle;\n",
       "    }\n",
       "\n",
       "    .dataframe tbody tr th {\n",
       "        vertical-align: top;\n",
       "    }\n",
       "\n",
       "    .dataframe thead th {\n",
       "        text-align: right;\n",
       "    }\n",
       "</style>\n",
       "<table border=\"1\" class=\"dataframe\">\n",
       "  <thead>\n",
       "    <tr style=\"text-align: right;\">\n",
       "      <th></th>\n",
       "      <th>loan_status</th>\n",
       "    </tr>\n",
       "  </thead>\n",
       "  <tbody>\n",
       "    <tr>\n",
       "      <th>118451</th>\n",
       "      <td>1</td>\n",
       "    </tr>\n",
       "    <tr>\n",
       "      <th>19723</th>\n",
       "      <td>1</td>\n",
       "    </tr>\n",
       "    <tr>\n",
       "      <th>188169</th>\n",
       "      <td>1</td>\n",
       "    </tr>\n",
       "    <tr>\n",
       "      <th>135602</th>\n",
       "      <td>0</td>\n",
       "    </tr>\n",
       "    <tr>\n",
       "      <th>135250</th>\n",
       "      <td>1</td>\n",
       "    </tr>\n",
       "  </tbody>\n",
       "</table>\n",
       "</div>"
      ],
      "text/plain": [
       "        loan_status\n",
       "118451            1\n",
       "19723             1\n",
       "188169            1\n",
       "135602            0\n",
       "135250            1"
      ]
     },
     "execution_count": 30,
     "metadata": {},
     "output_type": "execute_result"
    }
   ],
   "source": [
    "y_train.head()"
   ]
  },
  {
   "cell_type": "code",
   "execution_count": 31,
   "metadata": {},
   "outputs": [],
   "source": [
    "# combine them together \n",
    "loans_2007_2019 = pd.concat([X_train, y_train], axis=1)"
   ]
  },
  {
   "cell_type": "code",
   "execution_count": 32,
   "metadata": {},
   "outputs": [
    {
     "data": {
      "text/plain": [
       "(1188419, 145)"
      ]
     },
     "execution_count": 32,
     "metadata": {},
     "output_type": "execute_result"
    }
   ],
   "source": [
    "loans_2007_2019.shape"
   ]
  },
  {
   "cell_type": "markdown",
   "metadata": {},
   "source": [
    "<a id='clean'></a>\n",
    "## 2. Inital Data Cleaning \n",
    "\n",
    "**2.1. Check missing value for each columns and remove the columns that have more than 30% of missing value**"
   ]
  },
  {
   "cell_type": "markdown",
   "metadata": {},
   "source": [
    "Since every borrower is different, if we fill all the missing data with our guess, no matter it's medium or other value, this won't give us good information, so we choose drop those."
   ]
  },
  {
   "cell_type": "code",
   "execution_count": 33,
   "metadata": {
    "scrolled": true
   },
   "outputs": [
    {
     "name": "stdout",
     "output_type": "stream",
     "text": [
      "The percentage of misssing values in each columns is:  id                                            1.000000e+00\n",
      "next_pymnt_d                                  1.000000e+00\n",
      "url                                           1.000000e+00\n",
      "member_id                                     1.000000e+00\n",
      "orig_projected_additional_accrued_interest    9.967629e-01\n",
      "hardship_end_date                             9.952273e-01\n",
      "payment_plan_start_date                       9.952273e-01\n",
      "hardship_length                               9.952273e-01\n",
      "hardship_dpd                                  9.952273e-01\n",
      "hardship_loan_status                          9.952273e-01\n",
      "hardship_last_payment_amount                  9.952273e-01\n",
      "hardship_payoff_balance_amount                9.952273e-01\n",
      "hardship_amount                               9.952273e-01\n",
      "deferral_term                                 9.952273e-01\n",
      "hardship_status                               9.952273e-01\n",
      "hardship_reason                               9.952273e-01\n",
      "hardship_type                                 9.952273e-01\n",
      "hardship_start_date                           9.952273e-01\n",
      "sec_app_mths_since_last_major_derog           9.934947e-01\n",
      "sec_app_revol_util                            9.819508e-01\n",
      "sec_app_earliest_cr_line                      9.816336e-01\n",
      "revol_bal_joint                               9.816336e-01\n",
      "sec_app_collections_12_mths_ex_med            9.816336e-01\n",
      "sec_app_chargeoff_within_12_mths              9.816336e-01\n",
      "sec_app_num_rev_accts                         9.816336e-01\n",
      "sec_app_open_act_il                           9.816336e-01\n",
      "sec_app_open_acc                              9.816336e-01\n",
      "sec_app_mort_acc                              9.816336e-01\n",
      "sec_app_inq_last_6mths                        9.816336e-01\n",
      "verification_status_joint                     9.764233e-01\n",
      "dti_joint                                     9.760632e-01\n",
      "annual_inc_joint                              9.760615e-01\n",
      "settlement_term                               9.741842e-01\n",
      "debt_settlement_flag_date                     9.741842e-01\n",
      "settlement_status                             9.741842e-01\n",
      "settlement_percentage                         9.741842e-01\n",
      "settlement_amount                             9.741842e-01\n",
      "settlement_date                               9.741842e-01\n",
      "desc                                          9.167751e-01\n",
      "mths_since_last_record                        8.305572e-01\n",
      "mths_since_recent_bc_dlq                      7.632232e-01\n",
      "mths_since_last_major_derog                   7.370212e-01\n",
      "mths_since_recent_revol_delinq                6.657559e-01\n",
      "il_util                                       6.133771e-01\n",
      "mths_since_rcnt_il                            5.640847e-01\n",
      "all_util                                      5.517431e-01\n",
      "open_acc_6m                                   5.516952e-01\n",
      "total_cu_tl                                   5.516952e-01\n",
      "inq_last_12m                                  5.516952e-01\n",
      "open_il_24m                                   5.516943e-01\n",
      "open_act_il                                   5.516943e-01\n",
      "max_bal_bc                                    5.516943e-01\n",
      "open_rv_24m                                   5.516943e-01\n",
      "open_rv_12m                                   5.516943e-01\n",
      "total_bal_il                                  5.516943e-01\n",
      "inq_fi                                        5.516943e-01\n",
      "open_il_12m                                   5.516943e-01\n",
      "mths_since_last_delinq                        5.051148e-01\n",
      "mths_since_recent_inq                         1.274912e-01\n",
      "num_tl_120dpd_2m                              8.275869e-02\n",
      "mo_sin_old_il_acct                            7.409676e-02\n",
      "emp_title                                     6.540875e-02\n",
      "emp_length                                    5.981476e-02\n",
      "pct_tl_nvr_dlq                                4.562953e-02\n",
      "avg_cur_bal                                   4.553949e-02\n",
      "num_rev_accts                                 4.552098e-02\n",
      "tot_cur_bal                                   4.552014e-02\n",
      "num_tl_op_past_12m                            4.552014e-02\n",
      "tot_coll_amt                                  4.552014e-02\n",
      "num_tl_90g_dpd_24m                            4.552014e-02\n",
      "total_il_high_credit_limit                    4.552014e-02\n",
      "tot_hi_cred_lim                               4.552014e-02\n",
      "num_op_rev_tl                                 4.552014e-02\n",
      "num_tl_30dpd                                  4.552014e-02\n",
      "total_rev_hi_lim                              4.552014e-02\n",
      "num_actv_bc_tl                                4.552014e-02\n",
      "num_actv_rev_tl                               4.552014e-02\n",
      "num_il_tl                                     4.552014e-02\n",
      "mo_sin_old_rev_tl_op                          4.552014e-02\n",
      "mo_sin_rcnt_rev_tl_op                         4.552014e-02\n",
      "mo_sin_rcnt_tl                                4.552014e-02\n",
      "num_bc_tl                                     4.552014e-02\n",
      "num_rev_tl_bal_gt_0                           4.552014e-02\n",
      "num_accts_ever_120_pd                         4.552014e-02\n",
      "bc_util                                       4.296044e-02\n",
      "percent_bc_gt_75                              4.268192e-02\n",
      "bc_open_to_buy                                4.240592e-02\n",
      "mths_since_recent_bc                          4.172182e-02\n",
      "num_sats                                      3.765675e-02\n",
      "num_bc_sats                                   3.765675e-02\n",
      "acc_open_past_24mths                          3.188690e-02\n",
      "mort_acc                                      3.188690e-02\n",
      "total_bal_ex_mort                             3.188690e-02\n",
      "total_bc_limit                                3.188690e-02\n",
      "title                                         1.310396e-02\n",
      "last_pymnt_d                                  1.751066e-03\n",
      "revol_util                                    6.672731e-04\n",
      "pub_rec_bankruptcies                          4.686899e-04\n",
      "dti                                           3.643496e-04\n",
      "collections_12_mths_ex_med                    3.449962e-05\n",
      "chargeoff_within_12_mths                      3.449962e-05\n",
      "last_credit_pull_d                            3.365816e-05\n",
      "tax_liens                                     2.356071e-05\n",
      "inq_last_6mths                                8.414541e-07\n",
      "recoveries                                    0.000000e+00\n",
      "acc_now_delinq                                0.000000e+00\n",
      "hardship_flag                                 0.000000e+00\n",
      "pymnt_plan                                    0.000000e+00\n",
      "issue_d                                       0.000000e+00\n",
      "verification_status                           0.000000e+00\n",
      "annual_inc                                    0.000000e+00\n",
      "home_ownership                                0.000000e+00\n",
      "issue_year                                    0.000000e+00\n",
      "delinq_amnt                                   0.000000e+00\n",
      "sub_grade                                     0.000000e+00\n",
      "grade                                         0.000000e+00\n",
      "installment                                   0.000000e+00\n",
      "int_rate                                      0.000000e+00\n",
      "term                                          0.000000e+00\n",
      "funded_amnt_inv                               0.000000e+00\n",
      "funded_amnt                                   0.000000e+00\n",
      "loan_amnt                                     0.000000e+00\n",
      "debt_settlement_flag                          0.000000e+00\n",
      "purpose                                       0.000000e+00\n",
      "zip_code                                      0.000000e+00\n",
      "total_rec_late_fee                            0.000000e+00\n",
      "addr_state                                    0.000000e+00\n",
      "total_rec_int                                 0.000000e+00\n",
      "total_rec_prncp                               0.000000e+00\n",
      "total_pymnt_inv                               0.000000e+00\n",
      "total_pymnt                                   0.000000e+00\n",
      "out_prncp_inv                                 0.000000e+00\n",
      "out_prncp                                     0.000000e+00\n",
      "initial_list_status                           0.000000e+00\n",
      "total_acc                                     0.000000e+00\n",
      "collection_recovery_fee                       0.000000e+00\n",
      "revol_bal                                     0.000000e+00\n",
      "pub_rec                                       0.000000e+00\n",
      "open_acc                                      0.000000e+00\n",
      "last_pymnt_amnt                               0.000000e+00\n",
      "policy_code                                   0.000000e+00\n",
      "earliest_cr_line                              0.000000e+00\n",
      "delinq_2yrs                                   0.000000e+00\n",
      "application_type                              0.000000e+00\n",
      "loan_status                                   0.000000e+00\n",
      "dtype: float64\n"
     ]
    }
   ],
   "source": [
    "# check the percentage of misssing values in each columns\n",
    "missing_fraction = loans_2007_2019.isnull().mean().sort_values(ascending=False)\n",
    "\n",
    "print('The percentage of misssing values in each columns is: ', missing_fraction)"
   ]
  },
  {
   "cell_type": "markdown",
   "metadata": {},
   "source": [
    "There are many ways we can deal with missing value:\n",
    "1. Remove the columns that contain a certain amount of missing value; In our case, we remove the columns that have more than 30% of missing values, this is based on the above percentage of missing values for each columns and the column meaning, if the column is absolutely a very important features that could impact whether the loan will be paid off or not, then we should not remove it.\n",
    "2. Remove the rows with missing values, but this will remove other useful information too.  \n",
    "3. Fill in missing values with the best estimated value based on the distribution of the data.\n",
    "\n",
    "For our purpose, we will first drop columns with more than 30% of missing value, then drop rows which every value is missing (i.e. there is no any information about this loan), then we will do more data cleaning for each column and will drop some along the process; lastly, we will either remove or fill in the remaining missing values."
   ]
  },
  {
   "cell_type": "code",
   "execution_count": 34,
   "metadata": {},
   "outputs": [
    {
     "name": "stdout",
     "output_type": "stream",
     "text": [
      "The number of the columns with more than 30% of missing values is:  58\n"
     ]
    }
   ],
   "source": [
    "# sort the columns that have more than 30% of missing value\n",
    "drop_list = sorted(list(missing_fraction[missing_fraction>0.3].index))\n",
    "\n",
    "# see how many columns we will drop\n",
    "print('The number of the columns with more than 30% of missing values is: ', len(drop_list))"
   ]
  },
  {
   "cell_type": "code",
   "execution_count": 35,
   "metadata": {},
   "outputs": [],
   "source": [
    "# drop these columns \n",
    "loans_2007_2019 = loans_2007_2019.drop(drop_list, axis=1)"
   ]
  },
  {
   "cell_type": "code",
   "execution_count": 36,
   "metadata": {},
   "outputs": [
    {
     "name": "stdout",
     "output_type": "stream",
     "text": [
      "The number of rows and columns left is:  (1188419, 87)\n"
     ]
    }
   ],
   "source": [
    "# check the result\n",
    "print('The number of rows and columns left is: ',loans_2007_2019.shape)"
   ]
  },
  {
   "cell_type": "markdown",
   "metadata": {},
   "source": [
    "We still have some columns with missing value, we will clean later."
   ]
  },
  {
   "cell_type": "markdown",
   "metadata": {},
   "source": [
    "**2.2 Drop the rows where all the values are NaN.**"
   ]
  },
  {
   "cell_type": "code",
   "execution_count": 37,
   "metadata": {},
   "outputs": [
    {
     "name": "stdout",
     "output_type": "stream",
     "text": [
      "The number of rows and columns left is:  (1188419, 87)\n"
     ]
    }
   ],
   "source": [
    "# drop the rows that are all NaNs \n",
    "loans_2007_2019.dropna(axis = 0, how = 'all', inplace=True)\n",
    "\n",
    "# check the result\n",
    "print('The number of rows and columns left is: ', loans_2007_2019.shape)"
   ]
  },
  {
   "cell_type": "markdown",
   "metadata": {},
   "source": [
    "**2.3 Remove duplicated data**"
   ]
  },
  {
   "cell_type": "code",
   "execution_count": 38,
   "metadata": {},
   "outputs": [
    {
     "name": "stdout",
     "output_type": "stream",
     "text": [
      "The number of duplicated rows is:  0\n"
     ]
    }
   ],
   "source": [
    "# check if any rows are duplicated\n",
    "print('The number of duplicated rows is: ', loans_2007_2019.duplicated().sum())"
   ]
  },
  {
   "cell_type": "markdown",
   "metadata": {},
   "source": [
    "**2.4 Drop columns that leak information from the future, i.e. the information that will only be available after the loan has already been funded**\n",
    "\n",
    "Those are the information that an investor and Lendng Club will not know before they list the loan. These are not usefull for our analysis, and in machine learning modelling process, it can cause our model to overfit. This is because the model would be using data about the target column that wouldn't be available when we're using the model on future loans. This requires deep understanding of what each column means.\n",
    "\n",
    "Referring to the data dictionary, the following are the columns that leak data for future information, these information isn't available to an investor before the loan is fully funded and we don't want to include it in our model: The following are the columns that leak future imformations and need to be removed. \n",
    "- `funded_amnt`: The total amount committed to that loan at that point in time; \n",
    "- `funded_amnt_inv`: The total amount committed by investors for that loan at that point in time.\n",
    "- `out_prncp`: Remaining outstanding principal for total amount funded; \n",
    "- `out_prncp_inv`: Remaining outstanding principal for portion of total amount funded by investors; \n",
    "- `total_pymnt`: Payments received to date for total amount funded; \n",
    "- `total_pymnt_inv`: Payments received to date for portion of total amount funded by investors; \n",
    "- `total_rec_prncp`: \tPrincipal received to date;\n",
    "- `total_rec_int`: Interest received to date;\n",
    "- `total_rec_late_fee`: Late fees received to date; \n",
    "- `recoveries`: post charge off gross recovery; \n",
    "- `collection_recovery_fee`: \tpost charge off collection fee;\n",
    "- `last_pymnt_d`: Last month payment was received; \n",
    "- `last_pymnt_amnt`: Last total payment amount received;\n",
    "- `tot_coll_amt`: Total collection amounts ever owed"
   ]
  },
  {
   "cell_type": "code",
   "execution_count": 39,
   "metadata": {},
   "outputs": [
    {
     "name": "stdout",
     "output_type": "stream",
     "text": [
      "The number of rows and columns left is:  (1188419, 73)\n"
     ]
    }
   ],
   "source": [
    "# those are the columns we have identified to drop:\n",
    "remove_col = ['funded_amnt','funded_amnt_inv','out_prncp','out_prncp_inv','total_pymnt','total_pymnt_inv',\n",
    "             'total_rec_prncp','total_rec_int','total_rec_late_fee','recoveries','collection_recovery_fee','last_pymnt_d',\n",
    "             'last_pymnt_amnt','tot_coll_amt']\n",
    "\n",
    "# drop those columns\n",
    "loans_2007_2019 = loans_2007_2019.drop(remove_col,axis=1)\n",
    "\n",
    "# check the result\n",
    "print('The number of rows and columns left is: ', loans_2007_2019.shape)"
   ]
  },
  {
   "cell_type": "markdown",
   "metadata": {},
   "source": [
    "**2.5 Remove the columns that are not useful for machine learning model**\n",
    "\n",
    "First, drop the columns that contains only one unique value except NaN, those are for sure not usefull for machine leaning.\n",
    "\n",
    "Some columns may contain two unique vaules, and one is NaN; So we need to check how many unique values the column has if removing NaN. Thoes columns have the same value for every loans, this is not useful for analysis and machines learning, we will need to remove them."
   ]
  },
  {
   "cell_type": "code",
   "execution_count": 40,
   "metadata": {},
   "outputs": [
    {
     "name": "stdout",
     "output_type": "stream",
     "text": [
      "The columns that have only one unique value if removing NaN are:  ['policy_code']\n",
      "\n",
      "\n",
      "The number of rows and columns left is:  (1188419, 72)\n"
     ]
    }
   ],
   "source": [
    "# get all the columns we want to exam\n",
    "orig_columns = loans_2007_2019.columns\n",
    "\n",
    "# create an empty list for the columns we want to drop\n",
    "drop_columns = []\n",
    "\n",
    "# write a for loop\n",
    "for col in orig_columns:\n",
    "    col_series = loans_2007_2019[col].dropna().unique()\n",
    "    if len(col_series) == 1:\n",
    "        # those columns only contain one unique value\n",
    "        drop_columns.append(col)\n",
    "        \n",
    "# drop the columns\n",
    "loans_2007_2019 = loans_2007_2019.drop(drop_columns, axis=1)\n",
    "\n",
    "# show what we dropped\n",
    "print('The columns that have only one unique value if removing NaN are: ', drop_columns)\n",
    "\n",
    "print('\\n')\n",
    "# check the result\n",
    "print('The number of rows and columns left is: ',loans_2007_2019.shape)"
   ]
  },
  {
   "cell_type": "markdown",
   "metadata": {},
   "source": [
    "**Remove the columns with more than 90% the same value.**\n",
    "\n",
    "This step is not nessesary, however, in general columns with very little variabilty are not useful for machine learning model, it's almost like all the values are the same. **I have also tested the same model without removing those columns, and it didn't return better results.**\n",
    "\n",
    "The reason I decided to remove those columns in this step is, if those columns have missing value while other columns don't have, and later when I remove rows with missing value, I will remove the rows I should not remove. So it is the best to remove all the columns not usefull ofr machine learning first."
   ]
  },
  {
   "cell_type": "code",
   "execution_count": 41,
   "metadata": {},
   "outputs": [
    {
     "name": "stdout",
     "output_type": "stream",
     "text": [
      "The columns that offers very little variability and need to be removed are:  ['pymnt_plan', 'collections_12_mths_ex_med', 'application_type', 'acc_now_delinq', 'chargeoff_within_12_mths', 'delinq_amnt', 'num_tl_120dpd_2m', 'num_tl_30dpd', 'num_tl_90g_dpd_24m', 'tax_liens', 'hardship_flag', 'debt_settlement_flag']\n",
      "\n",
      "\n",
      "The number of rows and columns in 2007 to 2019 model data is:  (1188419, 60)\n"
     ]
    }
   ],
   "source": [
    "# get all the columns we want to exam\n",
    "orig_columns = loans_2007_2019.columns\n",
    "\n",
    "# create an empty list for the columns we want to drop\n",
    "drop_columns = []\n",
    "\n",
    "# write a for loop\n",
    "for col in orig_columns:\n",
    "    \n",
    "    # select the columns that offers very little variability\n",
    "    if loans_2007_2019[col].value_counts(normalize=True, dropna=False).values[0]>0.9:\n",
    "\n",
    "        # those columns won't have much predictive value. let's drop it.\n",
    "        drop_columns.append(col)\n",
    "\n",
    "# drop the columns\n",
    "loans_2007_2019 = loans_2007_2019.drop(drop_columns, axis=1)\n",
    "\n",
    "# show what we dropped\n",
    "print('The columns that offers very little variability and need to be removed are: ', drop_columns)\n",
    "\n",
    "print('\\n')\n",
    "# check the result\n",
    "print('The number of rows and columns in 2007 to 2019 model data is: ',loans_2007_2019.shape)"
   ]
  },
  {
   "cell_type": "markdown",
   "metadata": {},
   "source": [
    "**Remove `issue_year`**\n",
    "\n",
    "We create this column for analysis, we don't need this in machine leaning model"
   ]
  },
  {
   "cell_type": "code",
   "execution_count": 42,
   "metadata": {},
   "outputs": [
    {
     "name": "stdout",
     "output_type": "stream",
     "text": [
      "The number of rows and columns in 2007 to 2019 model data is:  (1188419, 59)\n"
     ]
    }
   ],
   "source": [
    "loans_2007_2019.drop('issue_year', axis=1, inplace=True)\n",
    "# check the result\n",
    "print('The number of rows and columns in 2007 to 2019 model data is: ',loans_2007_2019.shape)"
   ]
  },
  {
   "cell_type": "markdown",
   "metadata": {},
   "source": [
    "**2.6 Drop columns that have redundant information**\n",
    "\n",
    "- `zip_code`: redundant with the `addr_state` column, also since only the first 3 digits of the 5 digit zip code are visible, which only can be used to identify the state the borrower lives in, this column is not useful for us. \n",
    "- `sub_grade`: redundant with the `grade` and `int_rate` column. From data dictionary, we know that each grade has 5 subgrade."
   ]
  },
  {
   "cell_type": "code",
   "execution_count": 43,
   "metadata": {},
   "outputs": [
    {
     "name": "stdout",
     "output_type": "stream",
     "text": [
      "The number of rows and columns left is:  (1188419, 57)\n"
     ]
    }
   ],
   "source": [
    "# drop columns  'zip_code' and 'sub_grade'\n",
    "loans_2007_2019 = loans_2007_2019.drop(['zip_code', 'sub_grade'],axis=1)\n",
    "\n",
    "# check the result\n",
    "print('The number of rows and columns left is: ', loans_2007_2019.shape)"
   ]
  },
  {
   "cell_type": "markdown",
   "metadata": {},
   "source": [
    "We are now able to reduce the column number to 58, so far we started to become familiar with the columns in the dataset and removed many columns that aren't useful for analyzing and modeling. Our data is still not clean and many missing values"
   ]
  },
  {
   "cell_type": "markdown",
   "metadata": {},
   "source": [
    "<a id='category'></a>\n",
    "## 3. More Data Cleaning on Category columns"
   ]
  },
  {
   "cell_type": "markdown",
   "metadata": {},
   "source": [
    "**Select the columns that are object**"
   ]
  },
  {
   "cell_type": "code",
   "execution_count": 44,
   "metadata": {},
   "outputs": [
    {
     "data": {
      "text/html": [
       "<div>\n",
       "<style scoped>\n",
       "    .dataframe tbody tr th:only-of-type {\n",
       "        vertical-align: middle;\n",
       "    }\n",
       "\n",
       "    .dataframe tbody tr th {\n",
       "        vertical-align: top;\n",
       "    }\n",
       "\n",
       "    .dataframe thead th {\n",
       "        text-align: right;\n",
       "    }\n",
       "</style>\n",
       "<table border=\"1\" class=\"dataframe\">\n",
       "  <thead>\n",
       "    <tr style=\"text-align: right;\">\n",
       "      <th></th>\n",
       "      <th>term</th>\n",
       "      <th>int_rate</th>\n",
       "      <th>grade</th>\n",
       "      <th>emp_title</th>\n",
       "      <th>emp_length</th>\n",
       "      <th>home_ownership</th>\n",
       "      <th>verification_status</th>\n",
       "      <th>issue_d</th>\n",
       "      <th>purpose</th>\n",
       "      <th>title</th>\n",
       "      <th>addr_state</th>\n",
       "      <th>earliest_cr_line</th>\n",
       "      <th>revol_util</th>\n",
       "      <th>initial_list_status</th>\n",
       "      <th>last_credit_pull_d</th>\n",
       "    </tr>\n",
       "  </thead>\n",
       "  <tbody>\n",
       "    <tr>\n",
       "      <th>118451</th>\n",
       "      <td>36 months</td>\n",
       "      <td>11.14%</td>\n",
       "      <td>B</td>\n",
       "      <td>American Association for Clinical Chemis</td>\n",
       "      <td>8 years</td>\n",
       "      <td>RENT</td>\n",
       "      <td>Not Verified</td>\n",
       "      <td>Mar-2013</td>\n",
       "      <td>credit_card</td>\n",
       "      <td>Ditch the rest of the credit cards</td>\n",
       "      <td>VA</td>\n",
       "      <td>May-2000</td>\n",
       "      <td>37.6%</td>\n",
       "      <td>f</td>\n",
       "      <td>Nov-2015</td>\n",
       "    </tr>\n",
       "  </tbody>\n",
       "</table>\n",
       "</div>"
      ],
      "text/plain": [
       "              term int_rate grade                                 emp_title  \\\n",
       "118451   36 months   11.14%     B  American Association for Clinical Chemis   \n",
       "\n",
       "       emp_length home_ownership verification_status   issue_d      purpose  \\\n",
       "118451    8 years           RENT        Not Verified  Mar-2013  credit_card   \n",
       "\n",
       "                                     title addr_state earliest_cr_line  \\\n",
       "118451  Ditch the rest of the credit cards         VA         May-2000   \n",
       "\n",
       "       revol_util initial_list_status last_credit_pull_d  \n",
       "118451      37.6%                   f           Nov-2015  "
      ]
     },
     "execution_count": 44,
     "metadata": {},
     "output_type": "execute_result"
    }
   ],
   "source": [
    "# select all the columns that are object\n",
    "object_col_df = loans_2007_2019.select_dtypes(include=['object'])\n",
    "# view the first row\n",
    "object_col_df.head(1)"
   ]
  },
  {
   "cell_type": "markdown",
   "metadata": {},
   "source": [
    "From the sample data, we can see many values are not in the right form, some should be numerical value, some shows repeated information or lengthy text. "
   ]
  },
  {
   "cell_type": "markdown",
   "metadata": {},
   "source": [
    "**3.1. Investigate date columns**\n",
    "\n",
    "- `earliest_cr_line`: The month the borrower's earliest reported credit line was opened; we do not need ths column for our analysis\n",
    "- `last_credit_pull_d`: The most recent month LendingClub pulled credit for this loan; we do not need ths column for our analysis.\n",
    "- `issue_d`: The date which the loan was funded. It means the date investor received full amount of money they need. We don't need this column; also it leak future information."
   ]
  },
  {
   "cell_type": "code",
   "execution_count": 45,
   "metadata": {},
   "outputs": [],
   "source": [
    "# drop columns `earliest_cr_line`\n",
    "loans_2007_2019.drop(['earliest_cr_line', 'last_credit_pull_d','issue_d'], axis=1, inplace=True)"
   ]
  },
  {
   "cell_type": "markdown",
   "metadata": {},
   "source": [
    "**3.2. `purpose` and `title` looks similar, delete one of them**"
   ]
  },
  {
   "cell_type": "markdown",
   "metadata": {},
   "source": [
    "Based on the first row's values for `purpose` and `title`, it seems like these columns could reflect the same information. Let's explore the unique value counts separately to confirm if this is true.\n",
    "\n",
    "- `purpose`: a category provided by the borrower for the loan request,\n",
    "- `title`: loan title provided the borrower"
   ]
  },
  {
   "cell_type": "code",
   "execution_count": 46,
   "metadata": {},
   "outputs": [
    {
     "data": {
      "text/plain": [
       "debt_consolidation    686540\n",
       "credit_card           261088\n",
       "home_improvement       78000\n",
       "other                  70098\n",
       "major_purchase         26268\n",
       "medical                13901\n",
       "small_business         13465\n",
       "car                    12913\n",
       "moving                  8408\n",
       "vacation                8212\n",
       "house                   6633\n",
       "wedding                 1840\n",
       "renewable_energy         805\n",
       "educational              248\n",
       "Name: purpose, dtype: int64"
      ]
     },
     "execution_count": 46,
     "metadata": {},
     "output_type": "execute_result"
    }
   ],
   "source": [
    "# view what values in 'purpose' column\n",
    "loans_2007_2019['purpose'].value_counts(dropna=False)"
   ]
  },
  {
   "cell_type": "code",
   "execution_count": 47,
   "metadata": {},
   "outputs": [
    {
     "name": "stdout",
     "output_type": "stream",
     "text": [
      "The number of unique value is:  50903\n",
      "\n",
      "\n",
      "Debt consolidation         589752\n",
      "Credit card refinancing    224240\n",
      "Home improvement            67862\n",
      "Other                       61158\n",
      "Major purchase              21973\n",
      "NaN                         15573\n",
      "Debt Consolidation          12533\n",
      "Medical expenses            12295\n",
      "Business                    10512\n",
      "Car financing               10205\n",
      "Name: title, dtype: int64\n"
     ]
    }
   ],
   "source": [
    "# check the number of unique value in the 'title' column\n",
    "print('The number of unique value is: ', loans_2007_2019['title'].nunique())\n",
    "\n",
    "print('\\n')\n",
    "\n",
    "# there are many values; show first 10 items in this clomun\n",
    "print(loans_2007_2019['title'].value_counts(dropna=False).head(10))"
   ]
  },
  {
   "cell_type": "markdown",
   "metadata": {},
   "source": [
    "It seems like the `purpose` and `title` columns do contain overlapping information but we'll keep the `purpose` column since it contains a few discrete values. In addition, the `title` column has data quality issues since many of the values are repeated with slight modifications (e.g. Debt Consolidation and Debt Consolidation Loan and debt consolidation)."
   ]
  },
  {
   "cell_type": "code",
   "execution_count": 48,
   "metadata": {},
   "outputs": [],
   "source": [
    "# drop 'title' column\n",
    "loans_2007_2019 = loans_2007_2019.drop('title', axis=1)"
   ]
  },
  {
   "cell_type": "markdown",
   "metadata": {},
   "source": [
    "**3.3 Remove % in `int_rate` and `revol_util`**\n",
    "\n",
    "Those columns that actually represent numeric values, that need to be converted:\n",
    "\n",
    "`int_rate`: interest rate of the loan in %\n",
    "\n",
    "`revol_util`: revolving line utilization rate or the amount of credit the borrower is using relative to all available credit, read more [here](https://blog.credit.com/2013/04/what-is-revolving-utilization-65530/)."
   ]
  },
  {
   "cell_type": "code",
   "execution_count": 49,
   "metadata": {},
   "outputs": [],
   "source": [
    "# Remove % in int_rate and change the data type to float\n",
    "loans_2007_2019['int_rate'] = loans_2007_2019['int_rate'].str.rstrip('%').astype('float')\n",
    "\n",
    "# Remove % in revol_util and change the data type to float\n",
    "loans_2007_2019['revol_util'] = loans_2007_2019['revol_util'].str.rstrip('%').astype('float')"
   ]
  },
  {
   "cell_type": "markdown",
   "metadata": {},
   "source": [
    "**3.4 Change values in `emp_length`**"
   ]
  },
  {
   "cell_type": "code",
   "execution_count": 50,
   "metadata": {},
   "outputs": [
    {
     "data": {
      "text/plain": [
       "10+ years    390956\n",
       "2 years      107548\n",
       "< 1 year      95735\n",
       "3 years       95163\n",
       "1 year        78292\n",
       "5 years       74199\n",
       "4 years       71435\n",
       "NaN           71085\n",
       "6 years       55049\n",
       "8 years       52857\n",
       "7 years       51523\n",
       "9 years       44577\n",
       "Name: emp_length, dtype: int64"
      ]
     },
     "execution_count": 50,
     "metadata": {},
     "output_type": "execute_result"
    }
   ],
   "source": [
    "# see what are the values in 'emp_length' column\n",
    "loans_2007_2019['emp_length'].value_counts(dropna=False)"
   ]
  },
  {
   "cell_type": "markdown",
   "metadata": {},
   "source": [
    "I erred on the side of being conservative with the 10+ years, < 1 year mappings. I assume that people who may have been working more than 10 years have only really worked for 10 years, also assume that people who've worked less than a year or if the information is not available that they've worked for 0. "
   ]
  },
  {
   "cell_type": "code",
   "execution_count": 51,
   "metadata": {},
   "outputs": [],
   "source": [
    "mapping_dict = {\n",
    "    \"emp_length\": {\n",
    "        \"10+ years\": 10,\n",
    "        \"9 years\": 9,\n",
    "        \"8 years\": 8,\n",
    "        \"7 years\": 7,\n",
    "        \"6 years\": 6,\n",
    "        \"5 years\": 5,\n",
    "        \"4 years\": 4,\n",
    "        \"3 years\": 3,\n",
    "        \"2 years\": 2,\n",
    "        \"1 year\": 1,\n",
    "        \"< 1 year\": 0\n",
    "    }\n",
    "}\n",
    "\n",
    "loans_2007_2019 = loans_2007_2019.replace(mapping_dict)"
   ]
  },
  {
   "cell_type": "code",
   "execution_count": 52,
   "metadata": {},
   "outputs": [
    {
     "data": {
      "text/plain": [
       " 10.0    390956\n",
       " 2.0     107548\n",
       " 0.0      95735\n",
       " 3.0      95163\n",
       " 1.0      78292\n",
       " 5.0      74199\n",
       " 4.0      71435\n",
       "NaN       71085\n",
       " 6.0      55049\n",
       " 8.0      52857\n",
       " 7.0      51523\n",
       " 9.0      44577\n",
       "Name: emp_length, dtype: int64"
      ]
     },
     "execution_count": 52,
     "metadata": {},
     "output_type": "execute_result"
    }
   ],
   "source": [
    "# view the result\n",
    "loans_2007_2019['emp_length'].value_counts(dropna=False)"
   ]
  },
  {
   "cell_type": "markdown",
   "metadata": {},
   "source": [
    "**3.5 Check `emp_title` column**\n",
    "\n",
    "`emp_title`: The job title supplied by the Borrower when applying for the loan."
   ]
  },
  {
   "cell_type": "code",
   "execution_count": 53,
   "metadata": {
    "scrolled": true
   },
   "outputs": [
    {
     "name": "stdout",
     "output_type": "stream",
     "text": [
      "The number of unique value is:  335861\n",
      "\n",
      "\n",
      "NaN                 77733\n",
      "Teacher             19088\n",
      "Manager             17383\n",
      "Owner                9470\n",
      "Registered Nurse     7954\n",
      "RN                   7694\n",
      "Supervisor           7373\n",
      "Driver               6993\n",
      "Sales                6752\n",
      "Project Manager      5672\n",
      "Name: emp_title, dtype: int64\n"
     ]
    }
   ],
   "source": [
    "# check the number of unique value in the 'emp_title' column\n",
    "print('The number of unique value is: ', loans_2007_2019['emp_title'].nunique())\n",
    "\n",
    "print('\\n')\n",
    "# show first 10 items in this clomun\n",
    "print(loans_2007_2019['emp_title'].value_counts(dropna=False).head(10))"
   ]
  },
  {
   "cell_type": "markdown",
   "metadata": {},
   "source": [
    "We can see there are 335861 categories in this column and the the most frequent one is NaN, we can drop this column. "
   ]
  },
  {
   "cell_type": "code",
   "execution_count": 54,
   "metadata": {},
   "outputs": [],
   "source": [
    "# drop 'emp_title' \n",
    "loans_2007_2019 = loans_2007_2019.drop('emp_title', axis=1)"
   ]
  },
  {
   "cell_type": "markdown",
   "metadata": {},
   "source": [
    "**3.6 Check again what is left in our category columns**"
   ]
  },
  {
   "cell_type": "code",
   "execution_count": 55,
   "metadata": {},
   "outputs": [
    {
     "data": {
      "text/html": [
       "<div>\n",
       "<style scoped>\n",
       "    .dataframe tbody tr th:only-of-type {\n",
       "        vertical-align: middle;\n",
       "    }\n",
       "\n",
       "    .dataframe tbody tr th {\n",
       "        vertical-align: top;\n",
       "    }\n",
       "\n",
       "    .dataframe thead th {\n",
       "        text-align: right;\n",
       "    }\n",
       "</style>\n",
       "<table border=\"1\" class=\"dataframe\">\n",
       "  <thead>\n",
       "    <tr style=\"text-align: right;\">\n",
       "      <th></th>\n",
       "      <th>term</th>\n",
       "      <th>grade</th>\n",
       "      <th>home_ownership</th>\n",
       "      <th>verification_status</th>\n",
       "      <th>purpose</th>\n",
       "      <th>addr_state</th>\n",
       "      <th>initial_list_status</th>\n",
       "    </tr>\n",
       "  </thead>\n",
       "  <tbody>\n",
       "    <tr>\n",
       "      <th>118451</th>\n",
       "      <td>36 months</td>\n",
       "      <td>B</td>\n",
       "      <td>RENT</td>\n",
       "      <td>Not Verified</td>\n",
       "      <td>credit_card</td>\n",
       "      <td>VA</td>\n",
       "      <td>f</td>\n",
       "    </tr>\n",
       "  </tbody>\n",
       "</table>\n",
       "</div>"
      ],
      "text/plain": [
       "              term grade home_ownership verification_status      purpose  \\\n",
       "118451   36 months     B           RENT        Not Verified  credit_card   \n",
       "\n",
       "       addr_state initial_list_status  \n",
       "118451         VA                   f  "
      ]
     },
     "execution_count": 55,
     "metadata": {},
     "output_type": "execute_result"
    }
   ],
   "source": [
    "# select all the columns that are object\n",
    "object_col_df = loans_2007_2019.select_dtypes(include=['object'])\n",
    "# view the first row\n",
    "object_col_df.head(1)"
   ]
  },
  {
   "cell_type": "code",
   "execution_count": 56,
   "metadata": {
    "scrolled": true
   },
   "outputs": [
    {
     "name": "stdout",
     "output_type": "stream",
     "text": [
      " 36 months    0.756839\n",
      " 60 months    0.243161\n",
      "Name: term, dtype: float64\n",
      "B    0.292385\n",
      "C    0.283943\n",
      "A    0.178205\n",
      "D    0.148446\n",
      "E    0.067753\n",
      "F    0.022760\n",
      "G    0.006508\n",
      "Name: grade, dtype: float64\n",
      "MORTGAGE    0.494533\n",
      "RENT        0.396344\n",
      "OWN         0.108679\n",
      "ANY         0.000312\n",
      "OTHER       0.000098\n",
      "NONE        0.000034\n",
      "Name: home_ownership, dtype: float64\n",
      "Source Verified    0.390512\n",
      "Verified           0.304997\n",
      "Not Verified       0.304491\n",
      "Name: verification_status, dtype: float64\n",
      "debt_consolidation    0.577692\n",
      "credit_card           0.219694\n",
      "home_improvement      0.065633\n",
      "other                 0.058984\n",
      "major_purchase        0.022103\n",
      "medical               0.011697\n",
      "small_business        0.011330\n",
      "car                   0.010866\n",
      "moving                0.007075\n",
      "vacation              0.006910\n",
      "house                 0.005581\n",
      "wedding               0.001548\n",
      "renewable_energy      0.000677\n",
      "educational           0.000209\n",
      "Name: purpose, dtype: float64\n",
      "CA    0.144585\n",
      "TX    0.081952\n",
      "NY    0.081660\n",
      "FL    0.071540\n",
      "IL    0.038619\n",
      "NJ    0.035929\n",
      "PA    0.033757\n",
      "OH    0.032677\n",
      "GA    0.032262\n",
      "VA    0.028356\n",
      "NC    0.027965\n",
      "MI    0.026343\n",
      "AZ    0.024256\n",
      "MD    0.023301\n",
      "MA    0.022997\n",
      "CO    0.022052\n",
      "WA    0.021590\n",
      "MN    0.017814\n",
      "IN    0.016297\n",
      "MO    0.015941\n",
      "TN    0.015298\n",
      "NV    0.014997\n",
      "CT    0.014788\n",
      "WI    0.013213\n",
      "AL    0.012185\n",
      "OR    0.012180\n",
      "SC    0.011905\n",
      "LA    0.011511\n",
      "KY    0.009607\n",
      "OK    0.009105\n",
      "KS    0.008292\n",
      "AR    0.007495\n",
      "UT    0.007344\n",
      "NM    0.005498\n",
      "MS    0.005063\n",
      "HI    0.004931\n",
      "NH    0.004836\n",
      "RI    0.004344\n",
      "WV    0.003590\n",
      "MT    0.002841\n",
      "NE    0.002816\n",
      "DE    0.002812\n",
      "DC    0.002526\n",
      "AK    0.002333\n",
      "WY    0.002175\n",
      "VT    0.002035\n",
      "SD    0.002032\n",
      "ME    0.001627\n",
      "ID    0.001437\n",
      "ND    0.001289\n",
      "IA    0.000005\n",
      "Name: addr_state, dtype: float64\n",
      "w    0.601864\n",
      "f    0.398136\n",
      "Name: initial_list_status, dtype: float64\n"
     ]
    }
   ],
   "source": [
    "# check what are the percentage of each value in those columns using a for loop: \n",
    "for col in object_col_df.columns:\n",
    "    print(loans_2007_2019[col].value_counts(normalize=True, dropna=False))"
   ]
  },
  {
   "cell_type": "markdown",
   "metadata": {},
   "source": [
    "Now our data is mostly cleaned except for missing value. Before we clean our data, it is a good idea to save our data in this stage. In this way, we can test whether different ways of handlling missing data can affect our machine learing performance."
   ]
  },
  {
   "cell_type": "code",
   "execution_count": 57,
   "metadata": {},
   "outputs": [],
   "source": [
    "loans_2007_2019.to_csv('loans_2007_2019_with_NaN.csv', index=False)"
   ]
  },
  {
   "cell_type": "markdown",
   "metadata": {},
   "source": [
    "**Visualize on selected columns**"
   ]
  },
  {
   "cell_type": "code",
   "execution_count": 58,
   "metadata": {},
   "outputs": [
    {
     "data": {
      "text/plain": [
       "Text(0, 0.5, 'The number of loans for each category')"
      ]
     },
     "execution_count": 58,
     "metadata": {},
     "output_type": "execute_result"
    },
    {
     "data": {
      "image/png": "[encoded data removed]",
      "text/plain": [
       "<Figure size 1080x720 with 4 Axes>"
      ]
     },
     "metadata": {
      "needs_background": "light"
     },
     "output_type": "display_data"
    }
   ],
   "source": [
    "plt.figure(figsize=(15,10))\n",
    "\n",
    "# code for plotting bar chart for employment length:\n",
    "plt.subplot(2,2,1)\n",
    "plt.bar(loans_2007_2019['emp_length'].value_counts().index, loans_2007_2019['emp_length'].value_counts().values)\n",
    "plt.title('Loan Distribution based on employment length')\n",
    "plt.xlabel('employment length in years')\n",
    "plt.ylabel('The number of loans for each category')\n",
    "\n",
    "# code for plotting histagram for annal income:\n",
    "plt.subplot(2,2,2) # noted that there are some extremely high income can make our plot high screwed, that is why I set a range\n",
    "plt.hist(loans_2007_2019['annual_inc'], bins=100, range=(0, 500000)) \n",
    "plt.title('Loan Distribution based on annal income')\n",
    "plt.xlabel('Annual Income')\n",
    "plt.ylabel('The number of loans for different annal income')\n",
    "\n",
    "# code for plotting bar chart for purpose:\n",
    "plt.subplot(2,2,3)\n",
    "plt.bar(loans_2007_2019['purpose'].value_counts().index, loans_2007_2019['purpose'].value_counts().values)\n",
    "plt.title('Loan Distribution based on borrower purpose')\n",
    "plt.xlabel('Borrower purpose')\n",
    "plt.xticks(rotation=90)\n",
    "plt.ylabel('The number of loans for each category')\n",
    "\n",
    "# code for plotting bar chart \n",
    "plt.subplot(2,2,4)\n",
    "plt.bar(loans_2007_2019['home_ownership'].value_counts().index, loans_2007_2019['home_ownership'].value_counts().values)\n",
    "plt.title('Loan Distribution based on borrower home ownership status')\n",
    "plt.xlabel('Borrower home ownership status')\n",
    "plt.ylabel('The number of loans for each category')"
   ]
  },
  {
   "cell_type": "markdown",
   "metadata": {},
   "source": [
    "<a id='missing'></a>\n",
    "## 4. Handling missing values"
   ]
  },
  {
   "cell_type": "markdown",
   "metadata": {},
   "source": [
    "So we already removed the columns with missing values of more than 30%, and this reduced our column number. After further cleaning, we still have some columns with less than 10% of missing value. "
   ]
  },
  {
   "cell_type": "markdown",
   "metadata": {},
   "source": [
    "**4.1 list the columns and the percentage of missing values**"
   ]
  },
  {
   "cell_type": "code",
   "execution_count": 59,
   "metadata": {},
   "outputs": [
    {
     "name": "stdout",
     "output_type": "stream",
     "text": [
      "The column name and the percentage of missing values is: \n",
      "\n",
      "\n",
      "mths_since_recent_inq         1.274912e-01\n",
      "mo_sin_old_il_acct            7.409676e-02\n",
      "emp_length                    5.981476e-02\n",
      "pct_tl_nvr_dlq                4.562953e-02\n",
      "avg_cur_bal                   4.553949e-02\n",
      "num_rev_accts                 4.552098e-02\n",
      "num_bc_tl                     4.552014e-02\n",
      "num_il_tl                     4.552014e-02\n",
      "num_accts_ever_120_pd         4.552014e-02\n",
      "num_actv_bc_tl                4.552014e-02\n",
      "num_actv_rev_tl               4.552014e-02\n",
      "mo_sin_old_rev_tl_op          4.552014e-02\n",
      "num_rev_tl_bal_gt_0           4.552014e-02\n",
      "num_op_rev_tl                 4.552014e-02\n",
      "mo_sin_rcnt_tl                4.552014e-02\n",
      "num_tl_op_past_12m            4.552014e-02\n",
      "total_il_high_credit_limit    4.552014e-02\n",
      "total_rev_hi_lim              4.552014e-02\n",
      "tot_hi_cred_lim               4.552014e-02\n",
      "tot_cur_bal                   4.552014e-02\n",
      "mo_sin_rcnt_rev_tl_op         4.552014e-02\n",
      "bc_util                       4.296044e-02\n",
      "percent_bc_gt_75              4.268192e-02\n",
      "bc_open_to_buy                4.240592e-02\n",
      "mths_since_recent_bc          4.172182e-02\n",
      "num_bc_sats                   3.765675e-02\n",
      "num_sats                      3.765675e-02\n",
      "acc_open_past_24mths          3.188690e-02\n",
      "mort_acc                      3.188690e-02\n",
      "total_bal_ex_mort             3.188690e-02\n",
      "total_bc_limit                3.188690e-02\n",
      "revol_util                    6.672731e-04\n",
      "pub_rec_bankruptcies          4.686899e-04\n",
      "dti                           3.643496e-04\n",
      "inq_last_6mths                8.414541e-07\n",
      "dtype: float64\n"
     ]
    }
   ],
   "source": [
    "# check the percentage of misssing values and sort the data\n",
    "missing_fraction = loans_2007_2019.isnull().mean().sort_values(ascending=False)\n",
    "print('The column name and the percentage of missing values is: ')\n",
    "print('\\n')\n",
    "print(missing_fraction[missing_fraction>0])"
   ]
  },
  {
   "cell_type": "markdown",
   "metadata": {},
   "source": [
    "`mths_since_recent_inq` : Months since most recent inquiry. It has the highest percentage of the missing value, let's plot the data to see its distribution, from data dictionary, it means ."
   ]
  },
  {
   "cell_type": "code",
   "execution_count": 60,
   "metadata": {},
   "outputs": [
    {
     "data": {
      "text/plain": [
       "count    1.036906e+06\n",
       "mean     6.745950e+00\n",
       "std      5.862184e+00\n",
       "min      0.000000e+00\n",
       "25%      2.000000e+00\n",
       "50%      5.000000e+00\n",
       "75%      1.000000e+01\n",
       "max      2.500000e+01\n",
       "Name: mths_since_recent_inq, dtype: float64"
      ]
     },
     "execution_count": 60,
     "metadata": {},
     "output_type": "execute_result"
    }
   ],
   "source": [
    "# check statistical information for this column\n",
    "loans_2007_2019['mths_since_recent_inq'].describe()"
   ]
  },
  {
   "cell_type": "code",
   "execution_count": 61,
   "metadata": {},
   "outputs": [
    {
     "data": {
      "text/plain": [
       "Text(0, 0.5, 'The number of loans')"
      ]
     },
     "execution_count": 61,
     "metadata": {},
     "output_type": "execute_result"
    },
    {
     "data": {
      "image/png": "[encoded data removed]",
      "text/plain": [
       "<Figure size 432x288 with 1 Axes>"
      ]
     },
     "metadata": {
      "needs_background": "light"
     },
     "output_type": "display_data"
    }
   ],
   "source": [
    "plt.hist(loans_2007_2019['mths_since_recent_inq']) \n",
    "plt.title('Loan Distribution based on Month since recent inquiry')\n",
    "plt.xlabel('Month since recent inquiry')\n",
    "plt.ylabel('The number of loans')"
   ]
  },
  {
   "cell_type": "markdown",
   "metadata": {},
   "source": [
    "It looks like it's reasonable to fill NaN as median in this column, which is 6"
   ]
  },
  {
   "cell_type": "markdown",
   "metadata": {},
   "source": [
    "**4.2 Fill NaN with median value for `mths_since_recent_inq` column**"
   ]
  },
  {
   "cell_type": "code",
   "execution_count": 62,
   "metadata": {},
   "outputs": [],
   "source": [
    "loans_2007_2019['mths_since_recent_inq'].fillna(loans_2007_2019['mths_since_recent_inq'].median(), inplace=True)"
   ]
  },
  {
   "cell_type": "markdown",
   "metadata": {},
   "source": [
    "**4.3 Drop all the rows with missing values**\n",
    "\n",
    "Since there are many columns that still contain missing value, the highest percentage is 0.06768, this is not very high, since we already have a lot of data, we can remove rows with missing value. **I have also tested to fill missing data with median value for all the columns and use it for the same machine learning model, and there isn't too much difference.** In this case choosing the simpler way is better."
   ]
  },
  {
   "cell_type": "code",
   "execution_count": 63,
   "metadata": {},
   "outputs": [],
   "source": [
    "loans_2007_2019 = loans_2007_2019.dropna(axis=0)"
   ]
  },
  {
   "cell_type": "markdown",
   "metadata": {},
   "source": [
    "Check which columns still have missing values:"
   ]
  },
  {
   "cell_type": "code",
   "execution_count": 64,
   "metadata": {},
   "outputs": [
    {
     "name": "stdout",
     "output_type": "stream",
     "text": [
      "Is there any cloumns that contain missing value:  False\n",
      "The number of rows and columns left is:  (1023834, 52)\n"
     ]
    }
   ],
   "source": [
    "# double check if we have any missing values left. \n",
    "print('Is there any cloumns that contain missing value: ', loans_2007_2019.isna().sum().any())\n",
    "print('The number of rows and columns left is: ', loans_2007_2019.shape)"
   ]
  },
  {
   "cell_type": "markdown",
   "metadata": {},
   "source": [
    "Now we have done our data cleaning after a long process.\n",
    "\n",
    "Noted that to this step, we only covered the basic cleaning. For machine learning, we need to do more cleaning and change all the category data to binary form."
   ]
  },
  {
   "cell_type": "markdown",
   "metadata": {},
   "source": [
    "**Save a copy for Part 2**"
   ]
  },
  {
   "cell_type": "code",
   "execution_count": 65,
   "metadata": {},
   "outputs": [],
   "source": [
    "# write out the data and save it to a new file\n",
    "loans_2007_2019.to_csv('loans_2007_2019_cleaned.csv', index=False)"
   ]
  },
  {
   "cell_type": "markdown",
   "metadata": {},
   "source": [
    "<a id='summary'></a>\n",
    "## 5. Summary"
   ]
  },
  {
   "cell_type": "markdown",
   "metadata": {},
   "source": [
    "In Part 1, we explored and analyzed our data, some of the key findings and indications are:\n",
    "- **The Charged Off rate for all the loans in average is 19.57%**. This means if we choose loans to invest randomly, we could have about 19% of Charged-Off rate. *We should build a model to select loans that are predicted as \"Fully_paid\" with less that 19% of mistake, i.e. false positive rate is less than 19%*. \n",
    "\n",
    "- Loans with **A** grade has about **5.9%** of Charged Off rate. This means if an investor only choose A loans to invest, there is still 5.9% of the chance that they will lose money. And at the same time, by investing only A loans will not guarantee good return because interest rate is low too. *We should make our model to be able to build an investment portforlio that gives higher return than if the investors only choose A loans randomly*.\n",
    "\n",
    "- From 2008 to 2018, the number of loans and the average amount of per loan kept increasing. This shows the growth of popularitu for peer-to-peer lending. \n",
    "\n",
    "- For the year trend on the risk of loans, from 2009 to 2016, the average charged Off rate went up gradually. This is not good news, but hopefully my machine learning model can help investors reduce the risk."
   ]
  }
 ],
 "metadata": {
  "kernelspec": {
   "display_name": "Python 3",
   "language": "python",
   "name": "python3"
  },
  "language_info": {
   "codemirror_mode": {
    "name": "ipython",
    "version": 3
   },
   "file_extension": ".py",
   "mimetype": "text/x-python",
   "name": "python",
   "nbconvert_exporter": "python",
   "pygments_lexer": "ipython3",
   "version": "3.7.0"
  }
 },
 "nbformat": 4,
 "nbformat_minor": 2
}
